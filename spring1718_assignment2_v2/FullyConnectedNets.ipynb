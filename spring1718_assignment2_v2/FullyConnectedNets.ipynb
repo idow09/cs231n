{
 "cells": [
  {
   "cell_type": "markdown",
   "metadata": {},
   "source": [
    "# Fully-Connected Neural Nets\n",
    "In the previous homework you implemented a fully-connected two-layer neural network on CIFAR-10. The implementation was simple but not very modular since the loss and gradient were computed in a single monolithic function. This is manageable for a simple two-layer network, but would become impractical as we move to bigger models. Ideally we want to build networks using a more modular design so that we can implement different layer types in isolation and then snap them together into models with different architectures.\n",
    "\n",
    "In this exercise we will implement fully-connected networks using a more modular approach. For each layer we will implement a `forward` and a `backward` function. The `forward` function will receive inputs, weights, and other parameters and will return both an output and a `cache` object storing data needed for the backward pass, like this:\n",
    "\n",
    "```python\n",
    "def layer_forward(x, w):\n",
    "  \"\"\" Receive inputs x and weights w \"\"\"\n",
    "  # Do some computations ...\n",
    "  z = # ... some intermediate value\n",
    "  # Do some more computations ...\n",
    "  out = # the output\n",
    "   \n",
    "  cache = (x, w, z, out) # Values we need to compute gradients\n",
    "   \n",
    "  return out, cache\n",
    "```\n",
    "\n",
    "The backward pass will receive upstream derivatives and the `cache` object, and will return gradients with respect to the inputs and weights, like this:\n",
    "\n",
    "```python\n",
    "def layer_backward(dout, cache):\n",
    "  \"\"\"\n",
    "  Receive dout (derivative of loss with respect to outputs) and cache,\n",
    "  and compute derivative with respect to inputs.\n",
    "  \"\"\"\n",
    "  # Unpack cache values\n",
    "  x, w, z, out = cache\n",
    "  \n",
    "  # Use values in cache to compute derivatives\n",
    "  dx = # Derivative of loss with respect to x\n",
    "  dw = # Derivative of loss with respect to w\n",
    "  \n",
    "  return dx, dw\n",
    "```\n",
    "\n",
    "After implementing a bunch of layers this way, we will be able to easily combine them to build classifiers with different architectures.\n",
    "\n",
    "In addition to implementing fully-connected networks of arbitrary depth, we will also explore different update rules for optimization, and introduce Dropout as a regularizer and Batch/Layer Normalization as a tool to more efficiently optimize deep networks.\n",
    "  "
   ]
  },
  {
   "cell_type": "code",
   "execution_count": 4,
   "metadata": {
    "ExecuteTime": {
     "end_time": "2019-04-02T13:20:30.826780Z",
     "start_time": "2019-04-02T13:20:30.298095Z"
    }
   },
   "outputs": [
    {
     "name": "stdout",
     "output_type": "stream",
     "text": [
      "The autoreload extension is already loaded. To reload it, use:\n",
      "  %reload_ext autoreload\n"
     ]
    }
   ],
   "source": [
    "# As usual, a bit of setup\n",
    "from __future__ import print_function\n",
    "import time\n",
    "import numpy as np\n",
    "import matplotlib.pyplot as plt\n",
    "from cs231n.classifiers.fc_net import *\n",
    "from cs231n.data_utils import get_CIFAR10_data\n",
    "from cs231n.gradient_check import eval_numerical_gradient, eval_numerical_gradient_array\n",
    "from cs231n.solver import Solver\n",
    "\n",
    "%matplotlib inline\n",
    "plt.rcParams['figure.figsize'] = (10.0, 8.0) # set default size of plots\n",
    "plt.rcParams['image.interpolation'] = 'nearest'\n",
    "plt.rcParams['image.cmap'] = 'gray'\n",
    "\n",
    "# for auto-reloading external modules\n",
    "# see http://stackoverflow.com/questions/1907993/autoreload-of-modules-in-ipython\n",
    "%load_ext autoreload\n",
    "%autoreload 2\n",
    "\n",
    "def rel_error(x, y):\n",
    "  \"\"\" returns relative error \"\"\"\n",
    "  return np.max(np.abs(x - y) / (np.maximum(1e-8, np.abs(x) + np.abs(y))))"
   ]
  },
  {
   "cell_type": "code",
   "execution_count": 5,
   "metadata": {
    "ExecuteTime": {
     "end_time": "2019-04-02T13:35:53.548644Z",
     "start_time": "2019-04-02T13:35:49.388744Z"
    }
   },
   "outputs": [
    {
     "name": "stdout",
     "output_type": "stream",
     "text": [
      "('X_train: ', (49000, 3, 32, 32))\n",
      "('y_train: ', (49000,))\n",
      "('X_val: ', (1000, 3, 32, 32))\n",
      "('y_val: ', (1000,))\n",
      "('X_test: ', (1000, 3, 32, 32))\n",
      "('y_test: ', (1000,))\n"
     ]
    }
   ],
   "source": [
    "# Load the (preprocessed) CIFAR10 data.\n",
    "\n",
    "data = get_CIFAR10_data()\n",
    "for k, v in list(data.items()):\n",
    "  print(('%s: ' % k, v.shape))"
   ]
  },
  {
   "cell_type": "markdown",
   "metadata": {},
   "source": [
    "# Affine layer: foward\n",
    "Open the file `cs231n/layers.py` and implement the `affine_forward` function.\n",
    "\n",
    "Once you are done you can test your implementaion by running the following:"
   ]
  },
  {
   "cell_type": "code",
   "execution_count": 6,
   "metadata": {
    "ExecuteTime": {
     "end_time": "2019-04-02T14:05:22.346174Z",
     "start_time": "2019-04-02T14:05:22.239462Z"
    }
   },
   "outputs": [
    {
     "name": "stdout",
     "output_type": "stream",
     "text": [
      "Testing affine_forward function:\n",
      "difference:  9.769847728806635e-10\n"
     ]
    }
   ],
   "source": [
    "# Test the affine_forward function\n",
    "\n",
    "num_inputs = 2\n",
    "input_shape = (4, 5, 6)\n",
    "output_dim = 3\n",
    "\n",
    "input_size = num_inputs * np.prod(input_shape)\n",
    "weight_size = output_dim * np.prod(input_shape)\n",
    "\n",
    "x = np.linspace(-0.1, 0.5, num=input_size).reshape(num_inputs, *input_shape)\n",
    "w = np.linspace(-0.2, 0.3, num=weight_size).reshape(np.prod(input_shape), output_dim)\n",
    "b = np.linspace(-0.3, 0.1, num=output_dim)\n",
    "\n",
    "out, _ = affine_forward(x, w, b)\n",
    "correct_out = np.array([[ 1.49834967,  1.70660132,  1.91485297],\n",
    "                        [ 3.25553199,  3.5141327,   3.77273342]])\n",
    "\n",
    "# Compare your output with ours. The error should be around e-9 or less.\n",
    "print('Testing affine_forward function:')\n",
    "print('difference: ', rel_error(out, correct_out))"
   ]
  },
  {
   "cell_type": "markdown",
   "metadata": {},
   "source": [
    "# Affine layer: backward\n",
    "Now implement the `affine_backward` function and test your implementation using numeric gradient checking."
   ]
  },
  {
   "cell_type": "code",
   "execution_count": 7,
   "metadata": {
    "ExecuteTime": {
     "end_time": "2019-04-02T14:31:17.590506Z",
     "start_time": "2019-04-02T14:31:17.489774Z"
    }
   },
   "outputs": [
    {
     "name": "stdout",
     "output_type": "stream",
     "text": [
      "Testing affine_backward function:\n",
      "dx error:  5.399100368651805e-11\n",
      "dw error:  9.904211865398145e-11\n",
      "db error:  2.4122867568119087e-11\n"
     ]
    }
   ],
   "source": [
    "# Test the affine_backward function\n",
    "np.random.seed(231)\n",
    "x = np.random.randn(10, 2, 3)\n",
    "w = np.random.randn(6, 5)\n",
    "b = np.random.randn(5)\n",
    "dout = np.random.randn(10, 5)\n",
    "\n",
    "dx_num = eval_numerical_gradient_array(lambda x: affine_forward(x, w, b)[0], x, dout)\n",
    "dw_num = eval_numerical_gradient_array(lambda w: affine_forward(x, w, b)[0], w, dout)\n",
    "db_num = eval_numerical_gradient_array(lambda b: affine_forward(x, w, b)[0], b, dout)\n",
    "\n",
    "_, cache = affine_forward(x, w, b)\n",
    "dx, dw, db = affine_backward(dout, cache)\n",
    "\n",
    "# The error should be around e-10 or less\n",
    "print('Testing affine_backward function:')\n",
    "print('dx error: ', rel_error(dx_num, dx))\n",
    "print('dw error: ', rel_error(dw_num, dw))\n",
    "print('db error: ', rel_error(db_num, db))"
   ]
  },
  {
   "cell_type": "markdown",
   "metadata": {},
   "source": [
    "# ReLU activation: forward\n",
    "Implement the forward pass for the ReLU activation function in the `relu_forward` function and test your implementation using the following:"
   ]
  },
  {
   "cell_type": "code",
   "execution_count": 8,
   "metadata": {
    "ExecuteTime": {
     "end_time": "2019-04-02T14:32:46.034779Z",
     "start_time": "2019-04-02T14:32:45.947018Z"
    }
   },
   "outputs": [
    {
     "name": "stdout",
     "output_type": "stream",
     "text": [
      "Testing relu_forward function:\n",
      "difference:  4.999999798022158e-08\n"
     ]
    }
   ],
   "source": [
    "# Test the relu_forward function\n",
    "\n",
    "x = np.linspace(-0.5, 0.5, num=12).reshape(3, 4)\n",
    "\n",
    "out, _ = relu_forward(x)\n",
    "correct_out = np.array([[ 0.,          0.,          0.,          0.,        ],\n",
    "                        [ 0.,          0.,          0.04545455,  0.13636364,],\n",
    "                        [ 0.22727273,  0.31818182,  0.40909091,  0.5,       ]])\n",
    "\n",
    "# Compare your output with ours. The error should be on the order of e-8\n",
    "print('Testing relu_forward function:')\n",
    "print('difference: ', rel_error(out, correct_out))"
   ]
  },
  {
   "cell_type": "markdown",
   "metadata": {},
   "source": [
    "# ReLU activation: backward\n",
    "Now implement the backward pass for the ReLU activation function in the `relu_backward` function and test your implementation using numeric gradient checking:"
   ]
  },
  {
   "cell_type": "code",
   "execution_count": 9,
   "metadata": {
    "ExecuteTime": {
     "end_time": "2019-04-02T14:34:28.357948Z",
     "start_time": "2019-04-02T14:34:28.267191Z"
    }
   },
   "outputs": [
    {
     "name": "stdout",
     "output_type": "stream",
     "text": [
      "Testing relu_backward function:\n",
      "dx error:  3.2756349136310288e-12\n"
     ]
    }
   ],
   "source": [
    "np.random.seed(231)\n",
    "x = np.random.randn(10, 10)\n",
    "dout = np.random.randn(*x.shape)\n",
    "\n",
    "dx_num = eval_numerical_gradient_array(lambda x: relu_forward(x)[0], x, dout)\n",
    "\n",
    "_, cache = relu_forward(x)\n",
    "dx = relu_backward(dout, cache)\n",
    "\n",
    "# The error should be on the order of e-12\n",
    "print('Testing relu_backward function:')\n",
    "print('dx error: ', rel_error(dx_num, dx))"
   ]
  },
  {
   "cell_type": "markdown",
   "metadata": {},
   "source": [
    "## Inline Question 1: \n",
    "\n",
    "We've only asked you to implement ReLU, but there are a number of different activation functions that one could use in neural networks, each with its pros and cons. In particular, an issue commonly seen with activation functions is getting zero (or close to zero) gradient flow during backpropagation. Which of the following activation functions have this problem? If you consider these functions in the one dimensional case, what types of input would lead to this behaviour?\n",
    "1. **Sigmoid**: -inf or inf\n",
    "2. **ReLU**: negative numbers\n",
    "3. Leaky ReLU"
   ]
  },
  {
   "cell_type": "markdown",
   "metadata": {},
   "source": [
    "# \"Sandwich\" layers\n",
    "There are some common patterns of layers that are frequently used in neural nets. For example, affine layers are frequently followed by a ReLU nonlinearity. To make these common patterns easy, we define several convenience layers in the file `cs231n/layer_utils.py`.\n",
    "\n",
    "For now take a look at the `affine_relu_forward` and `affine_relu_backward` functions, and run the following to numerically gradient check the backward pass:"
   ]
  },
  {
   "cell_type": "code",
   "execution_count": 10,
   "metadata": {
    "ExecuteTime": {
     "end_time": "2019-04-02T14:44:28.090550Z",
     "start_time": "2019-04-02T14:44:27.988845Z"
    }
   },
   "outputs": [
    {
     "name": "stdout",
     "output_type": "stream",
     "text": [
      "Testing affine_relu_forward and affine_relu_backward:\n",
      "dx error:  6.750562121603446e-11\n",
      "dw error:  8.162015570444288e-11\n",
      "db error:  7.826724021458994e-12\n"
     ]
    }
   ],
   "source": [
    "from cs231n.layer_utils import affine_relu_forward, affine_relu_backward\n",
    "np.random.seed(231)\n",
    "x = np.random.randn(2, 3, 4)\n",
    "w = np.random.randn(12, 10)\n",
    "b = np.random.randn(10)\n",
    "dout = np.random.randn(2, 10)\n",
    "\n",
    "out, cache = affine_relu_forward(x, w, b)\n",
    "dx, dw, db = affine_relu_backward(dout, cache)\n",
    "\n",
    "dx_num = eval_numerical_gradient_array(lambda x: affine_relu_forward(x, w, b)[0], x, dout)\n",
    "dw_num = eval_numerical_gradient_array(lambda w: affine_relu_forward(x, w, b)[0], w, dout)\n",
    "db_num = eval_numerical_gradient_array(lambda b: affine_relu_forward(x, w, b)[0], b, dout)\n",
    "\n",
    "# Relative error should be around e-10 or less\n",
    "print('Testing affine_relu_forward and affine_relu_backward:')\n",
    "print('dx error: ', rel_error(dx_num, dx))\n",
    "print('dw error: ', rel_error(dw_num, dw))\n",
    "print('db error: ', rel_error(db_num, db))"
   ]
  },
  {
   "cell_type": "markdown",
   "metadata": {},
   "source": [
    "# Loss layers: Softmax and SVM\n",
    "You implemented these loss functions in the last assignment, so we'll give them to you for free here. You should still make sure you understand how they work by looking at the implementations in `cs231n/layers.py`.\n",
    "\n",
    "You can make sure that the implementations are correct by running the following:"
   ]
  },
  {
   "cell_type": "code",
   "execution_count": 11,
   "metadata": {
    "ExecuteTime": {
     "end_time": "2019-04-02T14:52:58.782451Z",
     "start_time": "2019-04-02T14:52:58.583005Z"
    }
   },
   "outputs": [
    {
     "name": "stdout",
     "output_type": "stream",
     "text": [
      "Testing svm_loss:\n",
      "loss:  8.999602749096233\n",
      "dx error:  1.4021566006651672e-09\n",
      "\n",
      "Testing softmax_loss:\n",
      "loss:  2.302545844500738\n",
      "dx error:  9.384673161989355e-09\n"
     ]
    }
   ],
   "source": [
    "np.random.seed(231)\n",
    "num_classes, num_inputs = 10, 50\n",
    "x = 0.001 * np.random.randn(num_inputs, num_classes)\n",
    "y = np.random.randint(num_classes, size=num_inputs)\n",
    "\n",
    "dx_num = eval_numerical_gradient(lambda x: svm_loss(x, y)[0], x, verbose=False)\n",
    "loss, dx = svm_loss(x, y)\n",
    "\n",
    "# Test svm_loss function. Loss should be around 9 and dx error should be around the order of e-9\n",
    "print('Testing svm_loss:')\n",
    "print('loss: ', loss)\n",
    "print('dx error: ', rel_error(dx_num, dx))\n",
    "\n",
    "dx_num = eval_numerical_gradient(lambda x: softmax_loss(x, y)[0], x, verbose=False)\n",
    "loss, dx = softmax_loss(x, y)\n",
    "\n",
    "# Test softmax_loss function. Loss should be close to 2.3 and dx error should be around e-8\n",
    "print('\\nTesting softmax_loss:')\n",
    "print('loss: ', loss)\n",
    "print('dx error: ', rel_error(dx_num, dx))"
   ]
  },
  {
   "cell_type": "markdown",
   "metadata": {},
   "source": [
    "# Two-layer network\n",
    "In the previous assignment you implemented a two-layer neural network in a single monolithic class. Now that you have implemented modular versions of the necessary layers, you will reimplement the two layer network using these modular implementations.\n",
    "\n",
    "Open the file `cs231n/classifiers/fc_net.py` and complete the implementation of the `TwoLayerNet` class. This class will serve as a model for the other networks you will implement in this assignment, so read through it to make sure you understand the API. You can run the cell below to test your implementation."
   ]
  },
  {
   "cell_type": "code",
   "execution_count": 12,
   "metadata": {},
   "outputs": [
    {
     "name": "stdout",
     "output_type": "stream",
     "text": [
      "Testing initialization ... \n",
      "Testing test-time forward pass ... \n",
      "Testing training loss (no regularization)\n",
      "Running numeric gradient check with reg =  0.0\n",
      "W1 relative error: 1.52e-08\n",
      "W2 relative error: 3.48e-10\n",
      "b1 relative error: 6.55e-09\n",
      "b2 relative error: 4.33e-10\n",
      "Running numeric gradient check with reg =  0.7\n",
      "W1 relative error: 3.12e-07\n",
      "W2 relative error: 7.98e-08\n",
      "b1 relative error: 1.56e-08\n",
      "b2 relative error: 7.76e-10\n"
     ]
    }
   ],
   "source": [
    "np.random.seed(231)\n",
    "N, D, H, C = 3, 5, 50, 7\n",
    "X = np.random.randn(N, D)\n",
    "y = np.random.randint(C, size=N)\n",
    "\n",
    "std = 1e-3\n",
    "model = TwoLayerNet(input_dim=D, hidden_dim=H, num_classes=C, weight_scale=std)\n",
    "\n",
    "print('Testing initialization ... ')\n",
    "W1_std = abs(model.params['W1'].std() - std)\n",
    "b1 = model.params['b1']\n",
    "W2_std = abs(model.params['W2'].std() - std)\n",
    "b2 = model.params['b2']\n",
    "assert W1_std < std / 10, 'First layer weights do not seem right'\n",
    "assert np.all(b1 == 0), 'First layer biases do not seem right'\n",
    "assert W2_std < std / 10, 'Second layer weights do not seem right'\n",
    "assert np.all(b2 == 0), 'Second layer biases do not seem right'\n",
    "\n",
    "print('Testing test-time forward pass ... ')\n",
    "model.params['W1'] = np.linspace(-0.7, 0.3, num=D*H).reshape(D, H)\n",
    "model.params['b1'] = np.linspace(-0.1, 0.9, num=H)\n",
    "model.params['W2'] = np.linspace(-0.3, 0.4, num=H*C).reshape(H, C)\n",
    "model.params['b2'] = np.linspace(-0.9, 0.1, num=C)\n",
    "X = np.linspace(-5.5, 4.5, num=N*D).reshape(D, N).T\n",
    "scores = model.loss(X)\n",
    "correct_scores = np.asarray(\n",
    "  [[11.53165108,  12.2917344,   13.05181771,  13.81190102,  14.57198434, 15.33206765,  16.09215096],\n",
    "   [12.05769098,  12.74614105,  13.43459113,  14.1230412,   14.81149128, 15.49994135,  16.18839143],\n",
    "   [12.58373087,  13.20054771,  13.81736455,  14.43418138,  15.05099822, 15.66781506,  16.2846319 ]])\n",
    "scores_diff = np.abs(scores - correct_scores).sum()\n",
    "assert scores_diff < 1e-6, 'Problem with test-time forward pass'\n",
    "\n",
    "print('Testing training loss (no regularization)')\n",
    "y = np.asarray([0, 5, 1])\n",
    "loss, grads = model.loss(X, y)\n",
    "correct_loss = 3.4702243556\n",
    "assert abs(loss - correct_loss) < 1e-10, 'Problem with training-time loss'\n",
    "\n",
    "model.reg = 1.0\n",
    "loss, grads = model.loss(X, y)\n",
    "correct_loss = 26.5948426952\n",
    "assert abs(loss - correct_loss) < 1e-10, 'Problem with regularization loss'\n",
    "\n",
    "# Errors should be around e-7 or less\n",
    "for reg in [0.0, 0.7]:\n",
    "  print('Running numeric gradient check with reg = ', reg)\n",
    "  model.reg = reg\n",
    "  loss, grads = model.loss(X, y)\n",
    "\n",
    "  for name in sorted(grads):\n",
    "    f = lambda _: model.loss(X, y)[0]\n",
    "    grad_num = eval_numerical_gradient(f, model.params[name], verbose=False)\n",
    "    print('%s relative error: %.2e' % (name, rel_error(grad_num, grads[name])))"
   ]
  },
  {
   "cell_type": "markdown",
   "metadata": {},
   "source": [
    "# Solver\n",
    "In the previous assignment, the logic for training models was coupled to the models themselves. Following a more modular design, for this assignment we have split the logic for training models into a separate class.\n",
    "\n",
    "Open the file `cs231n/solver.py` and read through it to familiarize yourself with the API. After doing so, use a `Solver` instance to train a `TwoLayerNet` that achieves at least `50%` accuracy on the validation set."
   ]
  },
  {
   "cell_type": "code",
   "execution_count": 13,
   "metadata": {},
   "outputs": [
    {
     "name": "stdout",
     "output_type": "stream",
     "text": [
      "(Iteration 1 / 4900) loss: 2.374936\n",
      "(Epoch 0 / 10) train acc: 0.154000; val_acc: 0.163000\n",
      "(Iteration 11 / 4900) loss: 2.304960\n",
      "(Iteration 21 / 4900) loss: 2.103981\n",
      "(Iteration 31 / 4900) loss: 2.078904\n",
      "(Iteration 41 / 4900) loss: 1.978937\n",
      "(Iteration 51 / 4900) loss: 1.948791\n",
      "(Iteration 61 / 4900) loss: 2.041634\n",
      "(Iteration 71 / 4900) loss: 1.913887\n",
      "(Iteration 81 / 4900) loss: 2.008125\n",
      "(Iteration 91 / 4900) loss: 1.997793\n",
      "(Iteration 101 / 4900) loss: 1.935191\n",
      "(Iteration 111 / 4900) loss: 2.020349\n",
      "(Iteration 121 / 4900) loss: 1.855109\n",
      "(Iteration 131 / 4900) loss: 1.916693\n",
      "(Iteration 141 / 4900) loss: 1.790801\n",
      "(Iteration 151 / 4900) loss: 1.781081\n",
      "(Iteration 161 / 4900) loss: 1.691613\n",
      "(Iteration 171 / 4900) loss: 1.851576\n",
      "(Iteration 181 / 4900) loss: 1.802861\n",
      "(Iteration 191 / 4900) loss: 1.590967\n",
      "(Iteration 201 / 4900) loss: 1.750926\n",
      "(Iteration 211 / 4900) loss: 1.848657\n",
      "(Iteration 221 / 4900) loss: 1.660134\n",
      "(Iteration 231 / 4900) loss: 1.743091\n",
      "(Iteration 241 / 4900) loss: 1.712029\n",
      "(Iteration 251 / 4900) loss: 1.465713\n",
      "(Iteration 261 / 4900) loss: 1.691078\n",
      "(Iteration 271 / 4900) loss: 1.718124\n",
      "(Iteration 281 / 4900) loss: 1.691625\n",
      "(Iteration 291 / 4900) loss: 1.610235\n",
      "(Iteration 301 / 4900) loss: 1.668134\n",
      "(Iteration 311 / 4900) loss: 1.715981\n",
      "(Iteration 321 / 4900) loss: 1.756539\n",
      "(Iteration 331 / 4900) loss: 1.750863\n",
      "(Iteration 341 / 4900) loss: 1.679038\n",
      "(Iteration 351 / 4900) loss: 1.614589\n",
      "(Iteration 361 / 4900) loss: 1.863349\n",
      "(Iteration 371 / 4900) loss: 1.792148\n",
      "(Iteration 381 / 4900) loss: 1.506102\n",
      "(Iteration 391 / 4900) loss: 1.700763\n",
      "(Iteration 401 / 4900) loss: 1.597044\n",
      "(Iteration 411 / 4900) loss: 1.541404\n",
      "(Iteration 421 / 4900) loss: 1.741382\n",
      "(Iteration 431 / 4900) loss: 1.646449\n",
      "(Iteration 441 / 4900) loss: 1.663159\n",
      "(Iteration 451 / 4900) loss: 1.552859\n",
      "(Iteration 461 / 4900) loss: 1.597727\n",
      "(Iteration 471 / 4900) loss: 1.787611\n",
      "(Iteration 481 / 4900) loss: 1.668846\n",
      "(Epoch 1 / 10) train acc: 0.479000; val_acc: 0.448000\n",
      "(Iteration 491 / 4900) loss: 1.516433\n",
      "(Iteration 501 / 4900) loss: 1.632831\n",
      "(Iteration 511 / 4900) loss: 1.741551\n",
      "(Iteration 521 / 4900) loss: 1.623397\n",
      "(Iteration 531 / 4900) loss: 1.590987\n",
      "(Iteration 541 / 4900) loss: 1.530430\n",
      "(Iteration 551 / 4900) loss: 1.481051\n",
      "(Iteration 561 / 4900) loss: 1.634282\n",
      "(Iteration 571 / 4900) loss: 1.520080\n",
      "(Iteration 581 / 4900) loss: 1.673789\n",
      "(Iteration 591 / 4900) loss: 1.712710\n",
      "(Iteration 601 / 4900) loss: 1.525875\n",
      "(Iteration 611 / 4900) loss: 1.588501\n",
      "(Iteration 621 / 4900) loss: 1.520384\n",
      "(Iteration 631 / 4900) loss: 1.482771\n",
      "(Iteration 641 / 4900) loss: 1.546623\n",
      "(Iteration 651 / 4900) loss: 1.584597\n",
      "(Iteration 661 / 4900) loss: 1.626766\n",
      "(Iteration 671 / 4900) loss: 1.396098\n",
      "(Iteration 681 / 4900) loss: 1.395730\n",
      "(Iteration 691 / 4900) loss: 1.687919\n",
      "(Iteration 701 / 4900) loss: 1.491857\n",
      "(Iteration 711 / 4900) loss: 1.613550\n",
      "(Iteration 721 / 4900) loss: 1.608223\n",
      "(Iteration 731 / 4900) loss: 1.569655\n",
      "(Iteration 741 / 4900) loss: 1.766507\n",
      "(Iteration 751 / 4900) loss: 1.669570\n",
      "(Iteration 761 / 4900) loss: 1.762943\n",
      "(Iteration 771 / 4900) loss: 1.747980\n",
      "(Iteration 781 / 4900) loss: 1.502322\n",
      "(Iteration 791 / 4900) loss: 1.393971\n",
      "(Iteration 801 / 4900) loss: 1.692394\n",
      "(Iteration 811 / 4900) loss: 1.481344\n",
      "(Iteration 821 / 4900) loss: 1.763157\n",
      "(Iteration 831 / 4900) loss: 1.866734\n",
      "(Iteration 841 / 4900) loss: 1.572126\n",
      "(Iteration 851 / 4900) loss: 1.507774\n",
      "(Iteration 861 / 4900) loss: 1.579802\n",
      "(Iteration 871 / 4900) loss: 1.652272\n",
      "(Iteration 881 / 4900) loss: 1.462144\n",
      "(Iteration 891 / 4900) loss: 1.554737\n",
      "(Iteration 901 / 4900) loss: 1.562982\n",
      "(Iteration 911 / 4900) loss: 1.627909\n",
      "(Iteration 921 / 4900) loss: 1.602395\n",
      "(Iteration 931 / 4900) loss: 1.557377\n",
      "(Iteration 941 / 4900) loss: 1.667790\n",
      "(Iteration 951 / 4900) loss: 1.579330\n",
      "(Iteration 961 / 4900) loss: 1.640352\n",
      "(Iteration 971 / 4900) loss: 1.538829\n",
      "(Epoch 2 / 10) train acc: 0.480000; val_acc: 0.473000\n",
      "(Iteration 981 / 4900) loss: 1.526778\n",
      "(Iteration 991 / 4900) loss: 1.489772\n",
      "(Iteration 1001 / 4900) loss: 1.625849\n",
      "(Iteration 1011 / 4900) loss: 1.811716\n",
      "(Iteration 1021 / 4900) loss: 1.753179\n",
      "(Iteration 1031 / 4900) loss: 1.497829\n",
      "(Iteration 1041 / 4900) loss: 1.586155\n",
      "(Iteration 1051 / 4900) loss: 1.355928\n",
      "(Iteration 1061 / 4900) loss: 1.658934\n",
      "(Iteration 1071 / 4900) loss: 1.452014\n",
      "(Iteration 1081 / 4900) loss: 1.346013\n",
      "(Iteration 1091 / 4900) loss: 1.503200\n",
      "(Iteration 1101 / 4900) loss: 1.466238\n",
      "(Iteration 1111 / 4900) loss: 1.550612\n",
      "(Iteration 1121 / 4900) loss: 1.834124\n",
      "(Iteration 1131 / 4900) loss: 1.651059\n",
      "(Iteration 1141 / 4900) loss: 1.353509\n",
      "(Iteration 1151 / 4900) loss: 1.478440\n",
      "(Iteration 1161 / 4900) loss: 1.720889\n",
      "(Iteration 1171 / 4900) loss: 1.527894\n",
      "(Iteration 1181 / 4900) loss: 1.613679\n",
      "(Iteration 1191 / 4900) loss: 1.386331\n",
      "(Iteration 1201 / 4900) loss: 1.352490\n",
      "(Iteration 1211 / 4900) loss: 1.562366\n",
      "(Iteration 1221 / 4900) loss: 1.382788\n",
      "(Iteration 1231 / 4900) loss: 1.596942\n",
      "(Iteration 1241 / 4900) loss: 1.377867\n",
      "(Iteration 1251 / 4900) loss: 1.523787\n",
      "(Iteration 1261 / 4900) loss: 1.591317\n",
      "(Iteration 1271 / 4900) loss: 1.600223\n",
      "(Iteration 1281 / 4900) loss: 1.372699\n",
      "(Iteration 1291 / 4900) loss: 1.505318\n",
      "(Iteration 1301 / 4900) loss: 1.487485\n",
      "(Iteration 1311 / 4900) loss: 1.668587\n",
      "(Iteration 1321 / 4900) loss: 1.458642\n",
      "(Iteration 1331 / 4900) loss: 1.618238\n",
      "(Iteration 1341 / 4900) loss: 1.656847\n",
      "(Iteration 1351 / 4900) loss: 1.522370\n",
      "(Iteration 1361 / 4900) loss: 1.623464\n",
      "(Iteration 1371 / 4900) loss: 1.538964\n",
      "(Iteration 1381 / 4900) loss: 1.585408\n",
      "(Iteration 1391 / 4900) loss: 1.563292\n",
      "(Iteration 1401 / 4900) loss: 1.592142\n",
      "(Iteration 1411 / 4900) loss: 1.433572\n",
      "(Iteration 1421 / 4900) loss: 1.759398\n",
      "(Iteration 1431 / 4900) loss: 1.472222\n",
      "(Iteration 1441 / 4900) loss: 1.452124\n",
      "(Iteration 1451 / 4900) loss: 1.480507\n",
      "(Iteration 1461 / 4900) loss: 1.598604\n",
      "(Epoch 3 / 10) train acc: 0.524000; val_acc: 0.492000\n",
      "(Iteration 1471 / 4900) loss: 1.561170\n",
      "(Iteration 1481 / 4900) loss: 1.593650\n",
      "(Iteration 1491 / 4900) loss: 1.416912\n",
      "(Iteration 1501 / 4900) loss: 1.423959\n",
      "(Iteration 1511 / 4900) loss: 1.290349\n",
      "(Iteration 1521 / 4900) loss: 1.748230\n",
      "(Iteration 1531 / 4900) loss: 1.728379\n",
      "(Iteration 1541 / 4900) loss: 1.507619\n",
      "(Iteration 1551 / 4900) loss: 1.465750\n",
      "(Iteration 1561 / 4900) loss: 1.565665\n",
      "(Iteration 1571 / 4900) loss: 1.484118\n",
      "(Iteration 1581 / 4900) loss: 1.623600\n",
      "(Iteration 1591 / 4900) loss: 1.700851\n",
      "(Iteration 1601 / 4900) loss: 1.501818\n",
      "(Iteration 1611 / 4900) loss: 1.469177\n",
      "(Iteration 1621 / 4900) loss: 1.473276\n",
      "(Iteration 1631 / 4900) loss: 1.631688\n",
      "(Iteration 1641 / 4900) loss: 1.548305\n",
      "(Iteration 1651 / 4900) loss: 1.477409\n",
      "(Iteration 1661 / 4900) loss: 1.389396\n",
      "(Iteration 1671 / 4900) loss: 1.345063\n",
      "(Iteration 1681 / 4900) loss: 1.569939\n",
      "(Iteration 1691 / 4900) loss: 1.743214\n",
      "(Iteration 1701 / 4900) loss: 1.595131\n",
      "(Iteration 1711 / 4900) loss: 1.477588\n",
      "(Iteration 1721 / 4900) loss: 1.374408\n",
      "(Iteration 1731 / 4900) loss: 1.402173\n",
      "(Iteration 1741 / 4900) loss: 1.504248\n",
      "(Iteration 1751 / 4900) loss: 1.408704\n",
      "(Iteration 1761 / 4900) loss: 1.410582\n",
      "(Iteration 1771 / 4900) loss: 1.585768\n",
      "(Iteration 1781 / 4900) loss: 1.406810\n",
      "(Iteration 1791 / 4900) loss: 1.568881\n",
      "(Iteration 1801 / 4900) loss: 1.486782\n",
      "(Iteration 1811 / 4900) loss: 1.734382\n",
      "(Iteration 1821 / 4900) loss: 1.512107\n",
      "(Iteration 1831 / 4900) loss: 1.480847\n",
      "(Iteration 1841 / 4900) loss: 1.392946\n",
      "(Iteration 1851 / 4900) loss: 1.494010\n",
      "(Iteration 1861 / 4900) loss: 1.529998\n",
      "(Iteration 1871 / 4900) loss: 1.545514\n",
      "(Iteration 1881 / 4900) loss: 1.747053\n",
      "(Iteration 1891 / 4900) loss: 1.466352\n",
      "(Iteration 1901 / 4900) loss: 1.526163\n",
      "(Iteration 1911 / 4900) loss: 1.508887\n",
      "(Iteration 1921 / 4900) loss: 1.432703\n",
      "(Iteration 1931 / 4900) loss: 1.397312\n",
      "(Iteration 1941 / 4900) loss: 1.396464\n",
      "(Iteration 1951 / 4900) loss: 1.353934\n",
      "(Epoch 4 / 10) train acc: 0.493000; val_acc: 0.495000\n",
      "(Iteration 1961 / 4900) loss: 1.523864\n",
      "(Iteration 1971 / 4900) loss: 1.350560\n",
      "(Iteration 1981 / 4900) loss: 1.519563\n",
      "(Iteration 1991 / 4900) loss: 1.417319\n",
      "(Iteration 2001 / 4900) loss: 1.443233\n",
      "(Iteration 2011 / 4900) loss: 1.374981\n",
      "(Iteration 2021 / 4900) loss: 1.511228\n",
      "(Iteration 2031 / 4900) loss: 1.703273\n",
      "(Iteration 2041 / 4900) loss: 1.432691\n",
      "(Iteration 2051 / 4900) loss: 1.257982\n"
     ]
    },
    {
     "name": "stdout",
     "output_type": "stream",
     "text": [
      "(Iteration 2061 / 4900) loss: 1.677997\n",
      "(Iteration 2071 / 4900) loss: 1.456612\n",
      "(Iteration 2081 / 4900) loss: 1.257866\n",
      "(Iteration 2091 / 4900) loss: 1.493007\n",
      "(Iteration 2101 / 4900) loss: 1.790829\n",
      "(Iteration 2111 / 4900) loss: 1.625309\n",
      "(Iteration 2121 / 4900) loss: 1.389145\n",
      "(Iteration 2131 / 4900) loss: 1.418604\n",
      "(Iteration 2141 / 4900) loss: 1.272364\n",
      "(Iteration 2151 / 4900) loss: 1.659450\n",
      "(Iteration 2161 / 4900) loss: 1.331972\n",
      "(Iteration 2171 / 4900) loss: 1.556450\n",
      "(Iteration 2181 / 4900) loss: 1.452886\n",
      "(Iteration 2191 / 4900) loss: 1.265081\n",
      "(Iteration 2201 / 4900) loss: 1.418458\n",
      "(Iteration 2211 / 4900) loss: 1.413750\n",
      "(Iteration 2221 / 4900) loss: 1.632831\n",
      "(Iteration 2231 / 4900) loss: 1.594854\n",
      "(Iteration 2241 / 4900) loss: 1.295920\n",
      "(Iteration 2251 / 4900) loss: 1.405500\n",
      "(Iteration 2261 / 4900) loss: 1.541672\n",
      "(Iteration 2271 / 4900) loss: 1.365487\n",
      "(Iteration 2281 / 4900) loss: 1.750253\n",
      "(Iteration 2291 / 4900) loss: 1.531230\n",
      "(Iteration 2301 / 4900) loss: 1.504745\n",
      "(Iteration 2311 / 4900) loss: 1.420332\n",
      "(Iteration 2321 / 4900) loss: 1.653994\n",
      "(Iteration 2331 / 4900) loss: 1.561692\n",
      "(Iteration 2341 / 4900) loss: 1.495690\n",
      "(Iteration 2351 / 4900) loss: 1.501613\n",
      "(Iteration 2361 / 4900) loss: 1.570914\n",
      "(Iteration 2371 / 4900) loss: 1.660723\n",
      "(Iteration 2381 / 4900) loss: 1.522358\n",
      "(Iteration 2391 / 4900) loss: 1.517754\n",
      "(Iteration 2401 / 4900) loss: 1.481164\n",
      "(Iteration 2411 / 4900) loss: 1.591619\n",
      "(Iteration 2421 / 4900) loss: 1.472898\n",
      "(Iteration 2431 / 4900) loss: 1.632862\n",
      "(Iteration 2441 / 4900) loss: 1.619820\n",
      "(Epoch 5 / 10) train acc: 0.520000; val_acc: 0.459000\n",
      "(Iteration 2451 / 4900) loss: 1.568093\n",
      "(Iteration 2461 / 4900) loss: 1.610698\n",
      "(Iteration 2471 / 4900) loss: 1.650476\n",
      "(Iteration 2481 / 4900) loss: 1.334023\n",
      "(Iteration 2491 / 4900) loss: 1.694899\n",
      "(Iteration 2501 / 4900) loss: 1.506610\n",
      "(Iteration 2511 / 4900) loss: 1.487196\n",
      "(Iteration 2521 / 4900) loss: 1.488702\n",
      "(Iteration 2531 / 4900) loss: 1.594358\n",
      "(Iteration 2541 / 4900) loss: 1.631403\n",
      "(Iteration 2551 / 4900) loss: 1.948517\n",
      "(Iteration 2561 / 4900) loss: 1.336930\n",
      "(Iteration 2571 / 4900) loss: 1.492192\n",
      "(Iteration 2581 / 4900) loss: 1.474201\n",
      "(Iteration 2591 / 4900) loss: 1.521394\n",
      "(Iteration 2601 / 4900) loss: 1.321086\n",
      "(Iteration 2611 / 4900) loss: 1.414113\n",
      "(Iteration 2621 / 4900) loss: 1.746189\n",
      "(Iteration 2631 / 4900) loss: 1.482871\n",
      "(Iteration 2641 / 4900) loss: 1.440419\n",
      "(Iteration 2651 / 4900) loss: 1.560018\n",
      "(Iteration 2661 / 4900) loss: 1.462842\n",
      "(Iteration 2671 / 4900) loss: 1.421076\n",
      "(Iteration 2681 / 4900) loss: 1.437677\n",
      "(Iteration 2691 / 4900) loss: 1.295181\n",
      "(Iteration 2701 / 4900) loss: 1.305673\n",
      "(Iteration 2711 / 4900) loss: 1.554323\n",
      "(Iteration 2721 / 4900) loss: 1.398921\n",
      "(Iteration 2731 / 4900) loss: 1.443548\n",
      "(Iteration 2741 / 4900) loss: 1.502491\n",
      "(Iteration 2751 / 4900) loss: 1.237425\n",
      "(Iteration 2761 / 4900) loss: 1.633979\n",
      "(Iteration 2771 / 4900) loss: 1.443692\n",
      "(Iteration 2781 / 4900) loss: 1.226083\n",
      "(Iteration 2791 / 4900) loss: 1.362561\n",
      "(Iteration 2801 / 4900) loss: 1.407785\n",
      "(Iteration 2811 / 4900) loss: 1.428187\n",
      "(Iteration 2821 / 4900) loss: 1.495726\n",
      "(Iteration 2831 / 4900) loss: 1.566051\n",
      "(Iteration 2841 / 4900) loss: 1.495031\n",
      "(Iteration 2851 / 4900) loss: 1.562302\n",
      "(Iteration 2861 / 4900) loss: 1.372504\n",
      "(Iteration 2871 / 4900) loss: 1.461249\n",
      "(Iteration 2881 / 4900) loss: 1.431378\n",
      "(Iteration 2891 / 4900) loss: 1.460490\n",
      "(Iteration 2901 / 4900) loss: 1.589730\n",
      "(Iteration 2911 / 4900) loss: 1.700073\n",
      "(Iteration 2921 / 4900) loss: 1.447887\n",
      "(Iteration 2931 / 4900) loss: 1.547256\n",
      "(Epoch 6 / 10) train acc: 0.514000; val_acc: 0.474000\n",
      "(Iteration 2941 / 4900) loss: 1.447320\n",
      "(Iteration 2951 / 4900) loss: 1.658741\n",
      "(Iteration 2961 / 4900) loss: 1.393025\n",
      "(Iteration 2971 / 4900) loss: 1.387652\n",
      "(Iteration 2981 / 4900) loss: 1.598117\n",
      "(Iteration 2991 / 4900) loss: 1.517214\n",
      "(Iteration 3001 / 4900) loss: 1.488596\n",
      "(Iteration 3011 / 4900) loss: 1.432786\n",
      "(Iteration 3021 / 4900) loss: 1.328696\n",
      "(Iteration 3031 / 4900) loss: 1.568028\n",
      "(Iteration 3041 / 4900) loss: 1.548452\n",
      "(Iteration 3051 / 4900) loss: 1.388894\n",
      "(Iteration 3061 / 4900) loss: 1.334047\n",
      "(Iteration 3071 / 4900) loss: 1.419046\n",
      "(Iteration 3081 / 4900) loss: 1.412308\n",
      "(Iteration 3091 / 4900) loss: 1.391120\n",
      "(Iteration 3101 / 4900) loss: 1.170221\n",
      "(Iteration 3111 / 4900) loss: 1.539084\n",
      "(Iteration 3121 / 4900) loss: 1.433738\n",
      "(Iteration 3131 / 4900) loss: 1.247666\n",
      "(Iteration 3141 / 4900) loss: 1.398246\n",
      "(Iteration 3151 / 4900) loss: 1.379442\n",
      "(Iteration 3161 / 4900) loss: 1.600336\n",
      "(Iteration 3171 / 4900) loss: 1.619637\n",
      "(Iteration 3181 / 4900) loss: 1.631857\n",
      "(Iteration 3191 / 4900) loss: 1.408688\n",
      "(Iteration 3201 / 4900) loss: 1.596304\n",
      "(Iteration 3211 / 4900) loss: 1.740301\n",
      "(Iteration 3221 / 4900) loss: 1.369430\n",
      "(Iteration 3231 / 4900) loss: 1.460449\n",
      "(Iteration 3241 / 4900) loss: 1.311931\n",
      "(Iteration 3251 / 4900) loss: 1.361926\n",
      "(Iteration 3261 / 4900) loss: 1.499212\n",
      "(Iteration 3271 / 4900) loss: 1.478582\n",
      "(Iteration 3281 / 4900) loss: 1.318697\n",
      "(Iteration 3291 / 4900) loss: 1.385251\n",
      "(Iteration 3301 / 4900) loss: 1.361474\n",
      "(Iteration 3311 / 4900) loss: 1.331653\n",
      "(Iteration 3321 / 4900) loss: 1.409199\n",
      "(Iteration 3331 / 4900) loss: 1.533324\n",
      "(Iteration 3341 / 4900) loss: 1.319978\n",
      "(Iteration 3351 / 4900) loss: 1.364425\n",
      "(Iteration 3361 / 4900) loss: 1.613490\n",
      "(Iteration 3371 / 4900) loss: 1.602413\n",
      "(Iteration 3381 / 4900) loss: 1.611866\n",
      "(Iteration 3391 / 4900) loss: 1.534312\n",
      "(Iteration 3401 / 4900) loss: 1.469526\n",
      "(Iteration 3411 / 4900) loss: 1.504433\n",
      "(Iteration 3421 / 4900) loss: 1.613207\n",
      "(Epoch 7 / 10) train acc: 0.549000; val_acc: 0.484000\n",
      "(Iteration 3431 / 4900) loss: 1.478429\n",
      "(Iteration 3441 / 4900) loss: 1.555858\n",
      "(Iteration 3451 / 4900) loss: 1.615861\n",
      "(Iteration 3461 / 4900) loss: 1.379775\n",
      "(Iteration 3471 / 4900) loss: 1.524008\n",
      "(Iteration 3481 / 4900) loss: 1.342129\n",
      "(Iteration 3491 / 4900) loss: 1.530662\n",
      "(Iteration 3501 / 4900) loss: 1.486136\n",
      "(Iteration 3511 / 4900) loss: 1.507914\n",
      "(Iteration 3521 / 4900) loss: 1.458688\n",
      "(Iteration 3531 / 4900) loss: 1.637586\n",
      "(Iteration 3541 / 4900) loss: 1.800687\n",
      "(Iteration 3551 / 4900) loss: 1.541932\n",
      "(Iteration 3561 / 4900) loss: 1.487626\n",
      "(Iteration 3571 / 4900) loss: 1.455844\n",
      "(Iteration 3581 / 4900) loss: 1.367277\n",
      "(Iteration 3591 / 4900) loss: 1.451489\n",
      "(Iteration 3601 / 4900) loss: 1.321237\n",
      "(Iteration 3611 / 4900) loss: 1.305790\n",
      "(Iteration 3621 / 4900) loss: 1.602361\n",
      "(Iteration 3631 / 4900) loss: 1.490093\n",
      "(Iteration 3641 / 4900) loss: 1.671896\n",
      "(Iteration 3651 / 4900) loss: 1.334086\n",
      "(Iteration 3661 / 4900) loss: 1.522287\n",
      "(Iteration 3671 / 4900) loss: 1.529794\n",
      "(Iteration 3681 / 4900) loss: 1.452471\n",
      "(Iteration 3691 / 4900) loss: 1.532993\n",
      "(Iteration 3701 / 4900) loss: 1.387692\n",
      "(Iteration 3711 / 4900) loss: 1.486105\n",
      "(Iteration 3721 / 4900) loss: 1.507603\n",
      "(Iteration 3731 / 4900) loss: 1.305013\n",
      "(Iteration 3741 / 4900) loss: 1.385989\n",
      "(Iteration 3751 / 4900) loss: 1.372115\n",
      "(Iteration 3761 / 4900) loss: 1.393393\n",
      "(Iteration 3771 / 4900) loss: 1.439109\n",
      "(Iteration 3781 / 4900) loss: 1.583481\n",
      "(Iteration 3791 / 4900) loss: 1.409702\n",
      "(Iteration 3801 / 4900) loss: 1.386610\n",
      "(Iteration 3811 / 4900) loss: 1.567651\n",
      "(Iteration 3821 / 4900) loss: 1.341672\n",
      "(Iteration 3831 / 4900) loss: 1.471186\n",
      "(Iteration 3841 / 4900) loss: 1.380313\n",
      "(Iteration 3851 / 4900) loss: 1.607308\n",
      "(Iteration 3861 / 4900) loss: 1.661332\n",
      "(Iteration 3871 / 4900) loss: 1.399197\n",
      "(Iteration 3881 / 4900) loss: 1.546243\n",
      "(Iteration 3891 / 4900) loss: 1.380666\n",
      "(Iteration 3901 / 4900) loss: 1.523420\n",
      "(Iteration 3911 / 4900) loss: 1.331627\n",
      "(Epoch 8 / 10) train acc: 0.468000; val_acc: 0.425000\n",
      "(Iteration 3921 / 4900) loss: 2.460651\n",
      "(Iteration 3931 / 4900) loss: 1.605965\n",
      "(Iteration 3941 / 4900) loss: 1.462235\n",
      "(Iteration 3951 / 4900) loss: 1.178360\n",
      "(Iteration 3961 / 4900) loss: 1.437971\n",
      "(Iteration 3971 / 4900) loss: 1.339660\n",
      "(Iteration 3981 / 4900) loss: 1.504357\n",
      "(Iteration 3991 / 4900) loss: 1.455849\n",
      "(Iteration 4001 / 4900) loss: 1.466918\n",
      "(Iteration 4011 / 4900) loss: 1.669585\n",
      "(Iteration 4021 / 4900) loss: 1.496598\n",
      "(Iteration 4031 / 4900) loss: 1.345530\n",
      "(Iteration 4041 / 4900) loss: 1.467418\n",
      "(Iteration 4051 / 4900) loss: 1.502594\n",
      "(Iteration 4061 / 4900) loss: 1.392339\n",
      "(Iteration 4071 / 4900) loss: 1.364381\n",
      "(Iteration 4081 / 4900) loss: 1.244834\n",
      "(Iteration 4091 / 4900) loss: 1.448320\n",
      "(Iteration 4101 / 4900) loss: 1.379293\n"
     ]
    },
    {
     "name": "stdout",
     "output_type": "stream",
     "text": [
      "(Iteration 4111 / 4900) loss: 1.452265\n",
      "(Iteration 4121 / 4900) loss: 1.325233\n",
      "(Iteration 4131 / 4900) loss: 1.814056\n",
      "(Iteration 4141 / 4900) loss: 1.309712\n",
      "(Iteration 4151 / 4900) loss: 1.546841\n",
      "(Iteration 4161 / 4900) loss: 1.635847\n",
      "(Iteration 4171 / 4900) loss: 1.702471\n",
      "(Iteration 4181 / 4900) loss: 1.297241\n",
      "(Iteration 4191 / 4900) loss: 1.363618\n",
      "(Iteration 4201 / 4900) loss: 1.366584\n",
      "(Iteration 4211 / 4900) loss: 1.548635\n",
      "(Iteration 4221 / 4900) loss: 1.288987\n",
      "(Iteration 4231 / 4900) loss: 1.413903\n",
      "(Iteration 4241 / 4900) loss: 1.576663\n",
      "(Iteration 4251 / 4900) loss: 1.312259\n",
      "(Iteration 4261 / 4900) loss: 1.516059\n",
      "(Iteration 4271 / 4900) loss: 1.309531\n",
      "(Iteration 4281 / 4900) loss: 1.499353\n",
      "(Iteration 4291 / 4900) loss: 1.462107\n",
      "(Iteration 4301 / 4900) loss: 1.395206\n",
      "(Iteration 4311 / 4900) loss: 1.577607\n",
      "(Iteration 4321 / 4900) loss: 1.529244\n",
      "(Iteration 4331 / 4900) loss: 1.462359\n",
      "(Iteration 4341 / 4900) loss: 1.561052\n",
      "(Iteration 4351 / 4900) loss: 1.466697\n",
      "(Iteration 4361 / 4900) loss: 1.499753\n",
      "(Iteration 4371 / 4900) loss: 1.305645\n",
      "(Iteration 4381 / 4900) loss: 1.543370\n",
      "(Iteration 4391 / 4900) loss: 1.576624\n",
      "(Iteration 4401 / 4900) loss: 1.560403\n",
      "(Epoch 9 / 10) train acc: 0.498000; val_acc: 0.486000\n",
      "(Iteration 4411 / 4900) loss: 1.557837\n",
      "(Iteration 4421 / 4900) loss: 1.522373\n",
      "(Iteration 4431 / 4900) loss: 1.787432\n",
      "(Iteration 4441 / 4900) loss: 1.294289\n",
      "(Iteration 4451 / 4900) loss: 1.487508\n",
      "(Iteration 4461 / 4900) loss: 1.234348\n",
      "(Iteration 4471 / 4900) loss: 1.408275\n",
      "(Iteration 4481 / 4900) loss: 1.230980\n",
      "(Iteration 4491 / 4900) loss: 1.524846\n",
      "(Iteration 4501 / 4900) loss: 1.495523\n",
      "(Iteration 4511 / 4900) loss: 1.391103\n",
      "(Iteration 4521 / 4900) loss: 1.385678\n",
      "(Iteration 4531 / 4900) loss: 1.563519\n",
      "(Iteration 4541 / 4900) loss: 1.487533\n",
      "(Iteration 4551 / 4900) loss: 1.530152\n",
      "(Iteration 4561 / 4900) loss: 1.446601\n",
      "(Iteration 4571 / 4900) loss: 1.353452\n",
      "(Iteration 4581 / 4900) loss: 1.655877\n",
      "(Iteration 4591 / 4900) loss: 1.332786\n",
      "(Iteration 4601 / 4900) loss: 1.496349\n",
      "(Iteration 4611 / 4900) loss: 1.377572\n",
      "(Iteration 4621 / 4900) loss: 1.477865\n",
      "(Iteration 4631 / 4900) loss: 1.459547\n",
      "(Iteration 4641 / 4900) loss: 1.415863\n",
      "(Iteration 4651 / 4900) loss: 1.269927\n",
      "(Iteration 4661 / 4900) loss: 1.516507\n",
      "(Iteration 4671 / 4900) loss: 1.544866\n",
      "(Iteration 4681 / 4900) loss: 1.168008\n",
      "(Iteration 4691 / 4900) loss: 1.544861\n",
      "(Iteration 4701 / 4900) loss: 1.596664\n",
      "(Iteration 4711 / 4900) loss: 1.534380\n",
      "(Iteration 4721 / 4900) loss: 1.428699\n",
      "(Iteration 4731 / 4900) loss: 1.567986\n",
      "(Iteration 4741 / 4900) loss: 1.728347\n",
      "(Iteration 4751 / 4900) loss: 1.506702\n",
      "(Iteration 4761 / 4900) loss: 1.446906\n",
      "(Iteration 4771 / 4900) loss: 1.396332\n",
      "(Iteration 4781 / 4900) loss: 1.384422\n",
      "(Iteration 4791 / 4900) loss: 1.436291\n",
      "(Iteration 4801 / 4900) loss: 1.375063\n",
      "(Iteration 4811 / 4900) loss: 1.527772\n",
      "(Iteration 4821 / 4900) loss: 1.314089\n",
      "(Iteration 4831 / 4900) loss: 1.291932\n",
      "(Iteration 4841 / 4900) loss: 1.526224\n",
      "(Iteration 4851 / 4900) loss: 1.431578\n",
      "(Iteration 4861 / 4900) loss: 1.504683\n",
      "(Iteration 4871 / 4900) loss: 1.630194\n",
      "(Iteration 4881 / 4900) loss: 1.474160\n",
      "(Iteration 4891 / 4900) loss: 1.493962\n",
      "(Epoch 10 / 10) train acc: 0.521000; val_acc: 0.476000\n",
      "That took 130 seconds\n"
     ]
    }
   ],
   "source": [
    "import time\n",
    "model = TwoLayerNet(hidden_dim=120, reg=4e-1)\n",
    "solver = Solver(model, data, optim_config={'learning_rate':1e-3})\n",
    "\n",
    "tic = time.time()\n",
    "solver.train()\n",
    "toc = time.time()\n",
    "print('That took %d seconds' % (toc - tic))\n"
   ]
  },
  {
   "cell_type": "code",
   "execution_count": 14,
   "metadata": {},
   "outputs": [
    {
     "data": {
      "image/png": "[encoded data removed]",
      "text/plain": [
       "<Figure size 1080x864 with 2 Axes>"
      ]
     },
     "metadata": {
      "needs_background": "light"
     },
     "output_type": "display_data"
    }
   ],
   "source": [
    "# Run this cell to visualize training loss and train / val accuracy\n",
    "\n",
    "plt.subplot(2, 1, 1)\n",
    "plt.title('Training loss')\n",
    "plt.plot(solver.loss_history, 'o')\n",
    "plt.xlabel('Iteration')\n",
    "\n",
    "plt.subplot(2, 1, 2)\n",
    "plt.title('Accuracy')\n",
    "plt.plot(solver.train_acc_history, '-o', label='train')\n",
    "plt.plot(solver.val_acc_history, '-o', label='val')\n",
    "plt.plot([0.5] * len(solver.val_acc_history), 'k--')\n",
    "plt.xlabel('Epoch')\n",
    "plt.legend(loc='lower right')\n",
    "plt.gcf().set_size_inches(15, 12)\n",
    "plt.show()"
   ]
  },
  {
   "cell_type": "markdown",
   "metadata": {},
   "source": [
    "# Multilayer network\n",
    "Next you will implement a fully-connected network with an arbitrary number of hidden layers.\n",
    "\n",
    "Read through the `FullyConnectedNet` class in the file `cs231n/classifiers/fc_net.py`.\n",
    "\n",
    "Implement the initialization, the forward pass, and the backward pass. For the moment don't worry about implementing dropout or batch/layer normalization; we will add those features soon."
   ]
  },
  {
   "cell_type": "markdown",
   "metadata": {},
   "source": [
    "## Initial loss and gradient check"
   ]
  },
  {
   "cell_type": "markdown",
   "metadata": {},
   "source": [
    "As a sanity check, run the following to check the initial loss and to gradient check the network both with and without regularization. Do the initial losses seem reasonable?\n",
    "\n",
    "For gradient checking, you should expect to see errors around 1e-7 or less."
   ]
  },
  {
   "cell_type": "code",
   "execution_count": 15,
   "metadata": {},
   "outputs": [
    {
     "name": "stdout",
     "output_type": "stream",
     "text": [
      "Running check with reg =  0\n",
      "Initial loss:  2.3004790897684924\n",
      "W0 relative error: 1.48e-07\n",
      "W1 relative error: 2.21e-05\n",
      "W2 relative error: 3.53e-07\n",
      "b0 relative error: 5.38e-09\n",
      "b1 relative error: 2.09e-09\n",
      "b2 relative error: 5.80e-11\n",
      "Running check with reg =  3.14\n",
      "Initial loss:  7.052114776533016\n",
      "W0 relative error: 3.90e-09\n",
      "W1 relative error: 6.87e-08\n",
      "W2 relative error: 2.13e-08\n",
      "b0 relative error: 1.48e-08\n",
      "b1 relative error: 1.72e-09\n",
      "b2 relative error: 1.57e-10\n"
     ]
    }
   ],
   "source": [
    "np.random.seed(231)\n",
    "N, D, H1, H2, C = 2, 15, 20, 30, 10\n",
    "X = np.random.randn(N, D)\n",
    "y = np.random.randint(C, size=(N,))\n",
    "\n",
    "for reg in [0, 3.14]:\n",
    "  print('Running check with reg = ', reg)\n",
    "  model = FullyConnectedNet([H1, H2], input_dim=D, num_classes=C,\n",
    "                            reg=reg, weight_scale=5e-2, dtype=np.float64)\n",
    "\n",
    "  loss, grads = model.loss(X, y)\n",
    "  print('Initial loss: ', loss)\n",
    "  \n",
    "  # Most of the errors should be on the order of e-7 or smaller.   \n",
    "  # NOTE: It is fine however to see an error for W2 on the order of e-5\n",
    "  # for the check when reg = 0.0\n",
    "  for name in sorted(grads):\n",
    "    f = lambda _: model.loss(X, y)[0]\n",
    "    grad_num = eval_numerical_gradient(f, model.params[name], verbose=False, h=1e-5)\n",
    "    print('%s relative error: %.2e' % (name, rel_error(grad_num, grads[name])))"
   ]
  },
  {
   "cell_type": "markdown",
   "metadata": {},
   "source": [
    "As another sanity check, make sure you can overfit a small dataset of 50 images. First we will try a three-layer network with 100 units in each hidden layer. In the following cell, tweak the learning rate and initialization scale to overfit and achieve 100% training accuracy within 20 epochs."
   ]
  },
  {
   "cell_type": "code",
   "execution_count": 17,
   "metadata": {
    "scrolled": false
   },
   "outputs": [
    {
     "name": "stdout",
     "output_type": "stream",
     "text": [
      "(Iteration 1 / 40) loss: 3.362542\n",
      "(Epoch 0 / 20) train acc: 0.220000; val_acc: 0.097000\n",
      "(Epoch 1 / 20) train acc: 0.360000; val_acc: 0.108000\n",
      "(Epoch 2 / 20) train acc: 0.560000; val_acc: 0.139000\n",
      "(Epoch 3 / 20) train acc: 0.720000; val_acc: 0.157000\n",
      "(Epoch 4 / 20) train acc: 0.820000; val_acc: 0.151000\n",
      "(Epoch 5 / 20) train acc: 0.820000; val_acc: 0.155000\n",
      "(Iteration 11 / 40) loss: 0.614889\n",
      "(Epoch 6 / 20) train acc: 0.880000; val_acc: 0.150000\n",
      "(Epoch 7 / 20) train acc: 0.960000; val_acc: 0.156000\n",
      "(Epoch 8 / 20) train acc: 0.940000; val_acc: 0.166000\n",
      "(Epoch 9 / 20) train acc: 0.980000; val_acc: 0.178000\n",
      "(Epoch 10 / 20) train acc: 0.980000; val_acc: 0.168000\n",
      "(Iteration 21 / 40) loss: 0.167934\n",
      "(Epoch 11 / 20) train acc: 1.000000; val_acc: 0.166000\n",
      "(Epoch 12 / 20) train acc: 1.000000; val_acc: 0.170000\n",
      "(Epoch 13 / 20) train acc: 1.000000; val_acc: 0.169000\n",
      "(Epoch 14 / 20) train acc: 1.000000; val_acc: 0.158000\n",
      "(Epoch 15 / 20) train acc: 1.000000; val_acc: 0.164000\n",
      "(Iteration 31 / 40) loss: 0.083912\n",
      "(Epoch 16 / 20) train acc: 1.000000; val_acc: 0.169000\n",
      "(Epoch 17 / 20) train acc: 1.000000; val_acc: 0.172000\n",
      "(Epoch 18 / 20) train acc: 1.000000; val_acc: 0.166000\n",
      "(Epoch 19 / 20) train acc: 1.000000; val_acc: 0.168000\n",
      "(Epoch 20 / 20) train acc: 1.000000; val_acc: 0.171000\n"
     ]
    },
    {
     "data": {
      "image/png": "[encoded data removed]",
      "text/plain": [
       "<Figure size 720x576 with 1 Axes>"
      ]
     },
     "metadata": {
      "needs_background": "light"
     },
     "output_type": "display_data"
    }
   ],
   "source": [
    "# TODO: Use a three-layer Net to overfit 50 training examples by \n",
    "# tweaking just the learning rate and initialization scale.\n",
    "\n",
    "num_train = 50\n",
    "small_data = {\n",
    "  'X_train': data['X_train'][:num_train],\n",
    "  'y_train': data['y_train'][:num_train],\n",
    "  'X_val': data['X_val'],\n",
    "  'y_val': data['y_val'],\n",
    "}\n",
    "\n",
    "weight_scale = 2e-2\n",
    "learning_rate = 3e-3\n",
    "model = FullyConnectedNet([100, 100],\n",
    "              weight_scale=weight_scale, dtype=np.float64)\n",
    "solver = Solver(model, small_data,\n",
    "                print_every=10, num_epochs=20, batch_size=25,\n",
    "                update_rule='sgd',\n",
    "                optim_config={\n",
    "                  'learning_rate': learning_rate,\n",
    "                }\n",
    "         )\n",
    "solver.train()\n",
    "\n",
    "plt.plot(solver.loss_history, 'o')\n",
    "plt.title('Training loss history')\n",
    "plt.xlabel('Iteration')\n",
    "plt.ylabel('Training loss')\n",
    "plt.show()"
   ]
  },
  {
   "cell_type": "markdown",
   "metadata": {},
   "source": [
    "Now try to use a five-layer network with 100 units on each layer to overfit 50 training examples. Again you will have to adjust the learning rate and weight initialization, but you should be able to achieve 100% training accuracy within 20 epochs."
   ]
  },
  {
   "cell_type": "code",
   "execution_count": 29,
   "metadata": {},
   "outputs": [
    {
     "name": "stdout",
     "output_type": "stream",
     "text": [
      "(Iteration 1 / 40) loss: 5.141518\n",
      "(Epoch 0 / 20) train acc: 0.160000; val_acc: 0.113000\n",
      "(Epoch 1 / 20) train acc: 0.320000; val_acc: 0.131000\n",
      "(Epoch 2 / 20) train acc: 0.500000; val_acc: 0.123000\n",
      "(Epoch 3 / 20) train acc: 0.660000; val_acc: 0.132000\n",
      "(Epoch 4 / 20) train acc: 0.660000; val_acc: 0.131000\n",
      "(Epoch 5 / 20) train acc: 0.740000; val_acc: 0.145000\n",
      "(Iteration 11 / 40) loss: 0.640699\n",
      "(Epoch 6 / 20) train acc: 0.920000; val_acc: 0.129000\n",
      "(Epoch 7 / 20) train acc: 0.900000; val_acc: 0.133000\n",
      "(Epoch 8 / 20) train acc: 0.980000; val_acc: 0.136000\n",
      "(Epoch 9 / 20) train acc: 0.980000; val_acc: 0.142000\n",
      "(Epoch 10 / 20) train acc: 0.980000; val_acc: 0.133000\n",
      "(Iteration 21 / 40) loss: 0.306842\n",
      "(Epoch 11 / 20) train acc: 0.980000; val_acc: 0.129000\n",
      "(Epoch 12 / 20) train acc: 0.980000; val_acc: 0.134000\n",
      "(Epoch 13 / 20) train acc: 0.980000; val_acc: 0.133000\n",
      "(Epoch 14 / 20) train acc: 1.000000; val_acc: 0.139000\n",
      "(Epoch 15 / 20) train acc: 1.000000; val_acc: 0.137000\n",
      "(Iteration 31 / 40) loss: 0.160993\n",
      "(Epoch 16 / 20) train acc: 1.000000; val_acc: 0.130000\n",
      "(Epoch 17 / 20) train acc: 1.000000; val_acc: 0.137000\n",
      "(Epoch 18 / 20) train acc: 1.000000; val_acc: 0.132000\n",
      "(Epoch 19 / 20) train acc: 1.000000; val_acc: 0.134000\n",
      "(Epoch 20 / 20) train acc: 1.000000; val_acc: 0.137000\n"
     ]
    },
    {
     "data": {
      "image/png": "[encoded data removed]",
      "text/plain": [
       "<Figure size 720x576 with 1 Axes>"
      ]
     },
     "metadata": {
      "needs_background": "light"
     },
     "output_type": "display_data"
    }
   ],
   "source": [
    "# TODO: Use a five-layer Net to overfit 50 training examples by \n",
    "# tweaking just the learning rate and initialization scale.\n",
    "\n",
    "num_train = 50\n",
    "small_data = {\n",
    "  'X_train': data['X_train'][:num_train],\n",
    "  'y_train': data['y_train'][:num_train],\n",
    "  'X_val': data['X_val'],\n",
    "  'y_val': data['y_val'],\n",
    "}\n",
    "\n",
    "learning_rate = 3e-3\n",
    "weight_scale = 5e-2\n",
    "model = FullyConnectedNet([100, 100, 100, 100],\n",
    "                weight_scale=weight_scale, dtype=np.float64)\n",
    "solver = Solver(model, small_data,\n",
    "                print_every=10, num_epochs=20, batch_size=25,\n",
    "                update_rule='sgd',\n",
    "                optim_config={\n",
    "                  'learning_rate': learning_rate,\n",
    "                }\n",
    "         )\n",
    "solver.train()\n",
    "\n",
    "plt.plot(solver.loss_history, 'o')\n",
    "plt.title('Training loss history')\n",
    "plt.xlabel('Iteration')\n",
    "plt.ylabel('Training loss')\n",
    "plt.show()"
   ]
  },
  {
   "cell_type": "markdown",
   "metadata": {},
   "source": [
    "## Inline Question 2: \n",
    "Did you notice anything about the comparative difficulty of training the three-layer net vs training the five layer net? In particular, based on your experience, which network seemed more sensitive to the initialization scale? Why do you think that is the case?"
   ]
  },
  {
   "cell_type": "markdown",
   "metadata": {},
   "source": [
    "## Answer:\n",
    "The 5 layer net is more sensitive to the init-scale, and thus is harder to train.\n",
    "I believe it has something to do with the fact that for a deeper network the gradient flow is less effective (there is a risk it could 'die')"
   ]
  },
  {
   "cell_type": "markdown",
   "metadata": {},
   "source": [
    "# Update rules\n",
    "So far we have used vanilla stochastic gradient descent (SGD) as our update rule. More sophisticated update rules can make it easier to train deep networks. We will implement a few of the most commonly used update rules and compare them to vanilla SGD."
   ]
  },
  {
   "cell_type": "markdown",
   "metadata": {},
   "source": [
    "# SGD+Momentum\n",
    "Stochastic gradient descent with momentum is a widely used update rule that tends to make deep networks converge faster than vanilla stochastic gradient descent. See the Momentum Update section at http://cs231n.github.io/neural-networks-3/#sgd for more information.\n",
    "\n",
    "Open the file `cs231n/optim.py` and read the documentation at the top of the file to make sure you understand the API. Implement the SGD+momentum update rule in the function `sgd_momentum` and run the following to check your implementation. You should see errors less than e-8."
   ]
  },
  {
   "cell_type": "code",
   "execution_count": 30,
   "metadata": {},
   "outputs": [
    {
     "name": "stdout",
     "output_type": "stream",
     "text": [
      "next_w error:  8.882347033505819e-09\n",
      "velocity error:  4.269287743278663e-09\n"
     ]
    }
   ],
   "source": [
    "from cs231n.optim import sgd_momentum\n",
    "\n",
    "N, D = 4, 5\n",
    "w = np.linspace(-0.4, 0.6, num=N*D).reshape(N, D)\n",
    "dw = np.linspace(-0.6, 0.4, num=N*D).reshape(N, D)\n",
    "v = np.linspace(0.6, 0.9, num=N*D).reshape(N, D)\n",
    "\n",
    "config = {'learning_rate': 1e-3, 'velocity': v}\n",
    "next_w, _ = sgd_momentum(w, dw, config=config)\n",
    "\n",
    "expected_next_w = np.asarray([\n",
    "  [ 0.1406,      0.20738947,  0.27417895,  0.34096842,  0.40775789],\n",
    "  [ 0.47454737,  0.54133684,  0.60812632,  0.67491579,  0.74170526],\n",
    "  [ 0.80849474,  0.87528421,  0.94207368,  1.00886316,  1.07565263],\n",
    "  [ 1.14244211,  1.20923158,  1.27602105,  1.34281053,  1.4096    ]])\n",
    "expected_velocity = np.asarray([\n",
    "  [ 0.5406,      0.55475789,  0.56891579, 0.58307368,  0.59723158],\n",
    "  [ 0.61138947,  0.62554737,  0.63970526,  0.65386316,  0.66802105],\n",
    "  [ 0.68217895,  0.69633684,  0.71049474,  0.72465263,  0.73881053],\n",
    "  [ 0.75296842,  0.76712632,  0.78128421,  0.79544211,  0.8096    ]])\n",
    "\n",
    "# Should see relative errors around e-8 or less\n",
    "print('next_w error: ', rel_error(next_w, expected_next_w))\n",
    "print('velocity error: ', rel_error(expected_velocity, config['velocity']))"
   ]
  },
  {
   "cell_type": "markdown",
   "metadata": {},
   "source": [
    "Once you have done so, run the following to train a six-layer network with both SGD and SGD+momentum. You should see the SGD+momentum update rule converge faster."
   ]
  },
  {
   "cell_type": "code",
   "execution_count": 31,
   "metadata": {
    "scrolled": false
   },
   "outputs": [
    {
     "name": "stdout",
     "output_type": "stream",
     "text": [
      "running with  sgd\n",
      "(Iteration 1 / 200) loss: 2.526053\n",
      "(Epoch 0 / 5) train acc: 0.099000; val_acc: 0.104000\n",
      "(Iteration 11 / 200) loss: 2.149947\n",
      "(Iteration 21 / 200) loss: 2.231856\n",
      "(Iteration 31 / 200) loss: 2.072582\n",
      "(Epoch 1 / 5) train acc: 0.275000; val_acc: 0.247000\n",
      "(Iteration 41 / 200) loss: 2.093114\n",
      "(Iteration 51 / 200) loss: 1.975793\n",
      "(Iteration 61 / 200) loss: 2.014167\n",
      "(Iteration 71 / 200) loss: 1.926543\n",
      "(Epoch 2 / 5) train acc: 0.331000; val_acc: 0.287000\n",
      "(Iteration 81 / 200) loss: 1.861382\n",
      "(Iteration 91 / 200) loss: 1.899804\n",
      "(Iteration 101 / 200) loss: 1.815300\n",
      "(Iteration 111 / 200) loss: 1.761091\n",
      "(Epoch 3 / 5) train acc: 0.372000; val_acc: 0.305000\n",
      "(Iteration 121 / 200) loss: 1.763185\n",
      "(Iteration 131 / 200) loss: 1.772553\n",
      "(Iteration 141 / 200) loss: 1.524153\n",
      "(Iteration 151 / 200) loss: 1.659608\n",
      "(Epoch 4 / 5) train acc: 0.410000; val_acc: 0.324000\n",
      "(Iteration 161 / 200) loss: 1.752706\n",
      "(Iteration 171 / 200) loss: 1.772316\n",
      "(Iteration 181 / 200) loss: 1.611618\n",
      "(Iteration 191 / 200) loss: 1.486296\n",
      "(Epoch 5 / 5) train acc: 0.421000; val_acc: 0.294000\n",
      "\n",
      "running with  sgd_momentum\n",
      "(Iteration 1 / 200) loss: 2.873940\n",
      "(Epoch 0 / 5) train acc: 0.091000; val_acc: 0.108000\n",
      "(Iteration 11 / 200) loss: 2.202709\n",
      "(Iteration 21 / 200) loss: 2.000896\n",
      "(Iteration 31 / 200) loss: 1.906769\n",
      "(Epoch 1 / 5) train acc: 0.321000; val_acc: 0.304000\n",
      "(Iteration 41 / 200) loss: 1.924434\n",
      "(Iteration 51 / 200) loss: 1.966156\n",
      "(Iteration 61 / 200) loss: 1.829629\n",
      "(Iteration 71 / 200) loss: 1.868620\n",
      "(Epoch 2 / 5) train acc: 0.415000; val_acc: 0.331000\n",
      "(Iteration 81 / 200) loss: 1.780554\n",
      "(Iteration 91 / 200) loss: 1.753126\n",
      "(Iteration 101 / 200) loss: 1.683087\n",
      "(Iteration 111 / 200) loss: 1.535113\n",
      "(Epoch 3 / 5) train acc: 0.437000; val_acc: 0.363000\n",
      "(Iteration 121 / 200) loss: 1.540821\n",
      "(Iteration 131 / 200) loss: 1.618720\n",
      "(Iteration 141 / 200) loss: 1.716518\n",
      "(Iteration 151 / 200) loss: 1.473379\n",
      "(Epoch 4 / 5) train acc: 0.464000; val_acc: 0.377000\n",
      "(Iteration 161 / 200) loss: 1.492758\n",
      "(Iteration 171 / 200) loss: 1.328031\n",
      "(Iteration 181 / 200) loss: 1.314754\n",
      "(Iteration 191 / 200) loss: 1.416105\n",
      "(Epoch 5 / 5) train acc: 0.520000; val_acc: 0.386000\n",
      "\n"
     ]
    },
    {
     "name": "stderr",
     "output_type": "stream",
     "text": [
      "C:\\Users\\Ido\\Anaconda2\\envs\\python3\\lib\\site-packages\\matplotlib\\figure.py:98: MatplotlibDeprecationWarning: \n",
      "Adding an axes using the same arguments as a previous axes currently reuses the earlier instance.  In a future version, a new instance will always be created and returned.  Meanwhile, this warning can be suppressed, and the future behavior ensured, by passing a unique label to each axes instance.\n",
      "  \"Adding an axes using the same arguments as a previous axes \"\n"
     ]
    },
    {
     "data": {
      "image/png": "[encoded data removed]",
      "text/plain": [
       "<Figure size 1080x1080 with 3 Axes>"
      ]
     },
     "metadata": {
      "needs_background": "light"
     },
     "output_type": "display_data"
    }
   ],
   "source": [
    "num_train = 4000\n",
    "small_data = {\n",
    "  'X_train': data['X_train'][:num_train],\n",
    "  'y_train': data['y_train'][:num_train],\n",
    "  'X_val': data['X_val'],\n",
    "  'y_val': data['y_val'],\n",
    "}\n",
    "\n",
    "solvers = {}\n",
    "\n",
    "for update_rule in ['sgd', 'sgd_momentum']:\n",
    "  print('running with ', update_rule)\n",
    "  model = FullyConnectedNet([100, 100, 100, 100, 100], weight_scale=5e-2)\n",
    "\n",
    "  solver = Solver(model, small_data,\n",
    "                  num_epochs=5, batch_size=100,\n",
    "                  update_rule=update_rule,\n",
    "                  optim_config={\n",
    "                    'learning_rate': 1e-2,\n",
    "                  },\n",
    "                  verbose=True)\n",
    "  solvers[update_rule] = solver\n",
    "  solver.train()\n",
    "  print()\n",
    "\n",
    "plt.subplot(3, 1, 1)\n",
    "plt.title('Training loss')\n",
    "plt.xlabel('Iteration')\n",
    "\n",
    "plt.subplot(3, 1, 2)\n",
    "plt.title('Training accuracy')\n",
    "plt.xlabel('Epoch')\n",
    "\n",
    "plt.subplot(3, 1, 3)\n",
    "plt.title('Validation accuracy')\n",
    "plt.xlabel('Epoch')\n",
    "\n",
    "for update_rule, solver in list(solvers.items()):\n",
    "  plt.subplot(3, 1, 1)\n",
    "  plt.plot(solver.loss_history, 'o', label=update_rule)\n",
    "  \n",
    "  plt.subplot(3, 1, 2)\n",
    "  plt.plot(solver.train_acc_history, '-o', label=update_rule)\n",
    "\n",
    "  plt.subplot(3, 1, 3)\n",
    "  plt.plot(solver.val_acc_history, '-o', label=update_rule)\n",
    "  \n",
    "for i in [1, 2, 3]:\n",
    "  plt.subplot(3, 1, i)\n",
    "  plt.legend(loc='upper center', ncol=4)\n",
    "plt.gcf().set_size_inches(15, 15)\n",
    "plt.show()"
   ]
  },
  {
   "cell_type": "markdown",
   "metadata": {},
   "source": [
    "# RMSProp and Adam\n",
    "RMSProp [1] and Adam [2] are update rules that set per-parameter learning rates by using a running average of the second moments of gradients.\n",
    "\n",
    "In the file `cs231n/optim.py`, implement the RMSProp update rule in the `rmsprop` function and implement the Adam update rule in the `adam` function, and check your implementations using the tests below.\n",
    "\n",
    "**NOTE:** Please implement the _complete_ Adam update rule (with the bias correction mechanism), not the first simplified version mentioned in the course notes. \n",
    "\n",
    "[1] Tijmen Tieleman and Geoffrey Hinton. \"Lecture 6.5-rmsprop: Divide the gradient by a running average of its recent magnitude.\" COURSERA: Neural Networks for Machine Learning 4 (2012).\n",
    "\n",
    "[2] Diederik Kingma and Jimmy Ba, \"Adam: A Method for Stochastic Optimization\", ICLR 2015."
   ]
  },
  {
   "cell_type": "code",
   "execution_count": 33,
   "metadata": {},
   "outputs": [
    {
     "name": "stdout",
     "output_type": "stream",
     "text": [
      "next_w error:  9.524687511038133e-08\n",
      "cache error:  2.6477955807156126e-09\n"
     ]
    }
   ],
   "source": [
    "# Test RMSProp implementation\n",
    "from cs231n.optim import rmsprop\n",
    "\n",
    "N, D = 4, 5\n",
    "w = np.linspace(-0.4, 0.6, num=N*D).reshape(N, D)\n",
    "dw = np.linspace(-0.6, 0.4, num=N*D).reshape(N, D)\n",
    "cache = np.linspace(0.6, 0.9, num=N*D).reshape(N, D)\n",
    "\n",
    "config = {'learning_rate': 1e-2, 'cache': cache}\n",
    "next_w, _ = rmsprop(w, dw, config=config)\n",
    "\n",
    "expected_next_w = np.asarray([\n",
    "  [-0.39223849, -0.34037513, -0.28849239, -0.23659121, -0.18467247],\n",
    "  [-0.132737,   -0.08078555, -0.02881884,  0.02316247,  0.07515774],\n",
    "  [ 0.12716641,  0.17918792,  0.23122175,  0.28326742,  0.33532447],\n",
    "  [ 0.38739248,  0.43947102,  0.49155973,  0.54365823,  0.59576619]])\n",
    "expected_cache = np.asarray([\n",
    "  [ 0.5976,      0.6126277,   0.6277108,   0.64284931,  0.65804321],\n",
    "  [ 0.67329252,  0.68859723,  0.70395734,  0.71937285,  0.73484377],\n",
    "  [ 0.75037008,  0.7659518,   0.78158892,  0.79728144,  0.81302936],\n",
    "  [ 0.82883269,  0.84469141,  0.86060554,  0.87657507,  0.8926    ]])\n",
    "\n",
    "# You should see relative errors around e-7 or less\n",
    "print('next_w error: ', rel_error(expected_next_w, next_w))\n",
    "print('cache error: ', rel_error(expected_cache, config['cache']))"
   ]
  },
  {
   "cell_type": "code",
   "execution_count": null,
   "metadata": {
    "collapsed": true
   },
   "outputs": [],
   "source": [
    "# Test Adam implementation\n",
    "from cs231n.optim import adam\n",
    "\n",
    "N, D = 4, 5\n",
    "w = np.linspace(-0.4, 0.6, num=N*D).reshape(N, D)\n",
    "dw = np.linspace(-0.6, 0.4, num=N*D).reshape(N, D)\n",
    "m = np.linspace(0.6, 0.9, num=N*D).reshape(N, D)\n",
    "v = np.linspace(0.7, 0.5, num=N*D).reshape(N, D)\n",
    "\n",
    "config = {'learning_rate': 1e-2, 'm': m, 'v': v, 't': 5}\n",
    "next_w, _ = adam(w, dw, config=config)\n",
    "\n",
    "expected_next_w = np.asarray([\n",
    "  [-0.40094747, -0.34836187, -0.29577703, -0.24319299, -0.19060977],\n",
    "  [-0.1380274,  -0.08544591, -0.03286534,  0.01971428,  0.0722929],\n",
    "  [ 0.1248705,   0.17744702,  0.23002243,  0.28259667,  0.33516969],\n",
    "  [ 0.38774145,  0.44031188,  0.49288093,  0.54544852,  0.59801459]])\n",
    "expected_v = np.asarray([\n",
    "  [ 0.69966,     0.68908382,  0.67851319,  0.66794809,  0.65738853,],\n",
    "  [ 0.64683452,  0.63628604,  0.6257431,   0.61520571,  0.60467385,],\n",
    "  [ 0.59414753,  0.58362676,  0.57311152,  0.56260183,  0.55209767,],\n",
    "  [ 0.54159906,  0.53110598,  0.52061845,  0.51013645,  0.49966,   ]])\n",
    "expected_m = np.asarray([\n",
    "  [ 0.48,        0.49947368,  0.51894737,  0.53842105,  0.55789474],\n",
    "  [ 0.57736842,  0.59684211,  0.61631579,  0.63578947,  0.65526316],\n",
    "  [ 0.67473684,  0.69421053,  0.71368421,  0.73315789,  0.75263158],\n",
    "  [ 0.77210526,  0.79157895,  0.81105263,  0.83052632,  0.85      ]])\n",
    "\n",
    "# You should see relative errors around e-7 or less\n",
    "print('next_w error: ', rel_error(expected_next_w, next_w))\n",
    "print('v error: ', rel_error(expected_v, config['v']))\n",
    "print('m error: ', rel_error(expected_m, config['m']))"
   ]
  },
  {
   "cell_type": "markdown",
   "metadata": {},
   "source": [
    "Once you have debugged your RMSProp and Adam implementations, run the following to train a pair of deep networks using these new update rules:"
   ]
  },
  {
   "cell_type": "code",
   "execution_count": null,
   "metadata": {
    "collapsed": true
   },
   "outputs": [],
   "source": [
    "learning_rates = {'rmsprop': 1e-4, 'adam': 1e-3}\n",
    "for update_rule in ['adam', 'rmsprop']:\n",
    "  print('running with ', update_rule)\n",
    "  model = FullyConnectedNet([100, 100, 100, 100, 100], weight_scale=5e-2)\n",
    "\n",
    "  solver = Solver(model, small_data,\n",
    "                  num_epochs=5, batch_size=100,\n",
    "                  update_rule=update_rule,\n",
    "                  optim_config={\n",
    "                    'learning_rate': learning_rates[update_rule]\n",
    "                  },\n",
    "                  verbose=True)\n",
    "  solvers[update_rule] = solver\n",
    "  solver.train()\n",
    "  print()\n",
    "\n",
    "plt.subplot(3, 1, 1)\n",
    "plt.title('Training loss')\n",
    "plt.xlabel('Iteration')\n",
    "\n",
    "plt.subplot(3, 1, 2)\n",
    "plt.title('Training accuracy')\n",
    "plt.xlabel('Epoch')\n",
    "\n",
    "plt.subplot(3, 1, 3)\n",
    "plt.title('Validation accuracy')\n",
    "plt.xlabel('Epoch')\n",
    "\n",
    "for update_rule, solver in list(solvers.items()):\n",
    "  plt.subplot(3, 1, 1)\n",
    "  plt.plot(solver.loss_history, 'o', label=update_rule)\n",
    "  \n",
    "  plt.subplot(3, 1, 2)\n",
    "  plt.plot(solver.train_acc_history, '-o', label=update_rule)\n",
    "\n",
    "  plt.subplot(3, 1, 3)\n",
    "  plt.plot(solver.val_acc_history, '-o', label=update_rule)\n",
    "  \n",
    "for i in [1, 2, 3]:\n",
    "  plt.subplot(3, 1, i)\n",
    "  plt.legend(loc='upper center', ncol=4)\n",
    "plt.gcf().set_size_inches(15, 15)\n",
    "plt.show()"
   ]
  },
  {
   "cell_type": "markdown",
   "metadata": {},
   "source": [
    "## Inline Question 3:\n",
    "\n",
    "AdaGrad, like Adam, is a per-parameter optimization method that uses the following update rule:\n",
    "\n",
    "```\n",
    "cache += dw**2\n",
    "w += - learning_rate * dw / (np.sqrt(cache) + eps)\n",
    "```\n",
    "\n",
    "John notices that when he was training a network with AdaGrad that the updates became very small, and that his network was learning slowly. Using your knowledge of the AdaGrad update rule, why do you think the updates would become very small? Would Adam have the same issue?\n"
   ]
  },
  {
   "cell_type": "markdown",
   "metadata": {},
   "source": [
    "## Answer: \n"
   ]
  },
  {
   "cell_type": "markdown",
   "metadata": {},
   "source": [
    "# Train a good model!\n",
    "Train the best fully-connected model that you can on CIFAR-10, storing your best model in the `best_model` variable. We require you to get at least 50% accuracy on the validation set using a fully-connected net.\n",
    "\n",
    "If you are careful it should be possible to get accuracies above 55%, but we don't require it for this part and won't assign extra credit for doing so. Later in the assignment we will ask you to train the best convolutional network that you can on CIFAR-10, and we would prefer that you spend your effort working on convolutional nets rather than fully-connected nets.\n",
    "\n",
    "You might find it useful to complete the `BatchNormalization.ipynb` and `Dropout.ipynb` notebooks before completing this part, since those techniques can help you train powerful models."
   ]
  },
  {
   "cell_type": "code",
   "execution_count": null,
   "metadata": {
    "collapsed": true,
    "scrolled": false
   },
   "outputs": [],
   "source": [
    "best_model = None\n",
    "################################################################################\n",
    "# TODO: Train the best FullyConnectedNet that you can on CIFAR-10. You might   #\n",
    "# find batch/layer normalization and dropout useful. Store your best model in  #\n",
    "# the best_model variable.                                                     #\n",
    "################################################################################\n",
    "pass\n",
    "################################################################################\n",
    "#                              END OF YOUR CODE                                #\n",
    "################################################################################"
   ]
  },
  {
   "cell_type": "markdown",
   "metadata": {},
   "source": [
    "# Test your model!\n",
    "Run your best model on the validation and test sets. You should achieve above 50% accuracy on the validation set."
   ]
  },
  {
   "cell_type": "code",
   "execution_count": null,
   "metadata": {
    "collapsed": true
   },
   "outputs": [],
   "source": [
    "y_test_pred = np.argmax(best_model.loss(data['X_test']), axis=1)\n",
    "y_val_pred = np.argmax(best_model.loss(data['X_val']), axis=1)\n",
    "print('Validation set accuracy: ', (y_val_pred == data['y_val']).mean())\n",
    "print('Test set accuracy: ', (y_test_pred == data['y_test']).mean())"
   ]
  }
 ],
 "metadata": {
  "kernelspec": {
   "display_name": "Python 3",
   "language": "python",
   "name": "python3"
  },
  "language_info": {
   "codemirror_mode": {
    "name": "ipython",
    "version": 3
   },
   "file_extension": ".py",
   "mimetype": "text/x-python",
   "name": "python",
   "nbconvert_exporter": "python",
   "pygments_lexer": "ipython3",
   "version": "3.7.1"
  },
  "varInspector": {
   "cols": {
    "lenName": 16,
    "lenType": 16,
    "lenVar": 40
   },
   "kernels_config": {
    "python": {
     "delete_cmd_postfix": "",
     "delete_cmd_prefix": "del ",
     "library": "var_list.py",
     "varRefreshCmd": "print(var_dic_list())"
    },
    "r": {
     "delete_cmd_postfix": ") ",
     "delete_cmd_prefix": "rm(",
     "library": "var_list.r",
     "varRefreshCmd": "cat(var_dic_list()) "
    }
   },
   "types_to_exclude": [
    "module",
    "function",
    "builtin_function_or_method",
    "instance",
    "_Feature"
   ],
   "window_display": false
  }
 },
 "nbformat": 4,
 "nbformat_minor": 2
}
