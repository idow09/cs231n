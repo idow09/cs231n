{
 "cells": [
  {
   "cell_type": "markdown",
   "metadata": {},
   "source": [
    "# Fully-Connected Neural Nets\n",
    "In the previous homework you implemented a fully-connected two-layer neural network on CIFAR-10. The implementation was simple but not very modular since the loss and gradient were computed in a single monolithic function. This is manageable for a simple two-layer network, but would become impractical as we move to bigger models. Ideally we want to build networks using a more modular design so that we can implement different layer types in isolation and then snap them together into models with different architectures.\n",
    "\n",
    "In this exercise we will implement fully-connected networks using a more modular approach. For each layer we will implement a `forward` and a `backward` function. The `forward` function will receive inputs, weights, and other parameters and will return both an output and a `cache` object storing data needed for the backward pass, like this:\n",
    "\n",
    "```python\n",
    "def layer_forward(x, w):\n",
    "  \"\"\" Receive inputs x and weights w \"\"\"\n",
    "  # Do some computations ...\n",
    "  z = # ... some intermediate value\n",
    "  # Do some more computations ...\n",
    "  out = # the output\n",
    "   \n",
    "  cache = (x, w, z, out) # Values we need to compute gradients\n",
    "   \n",
    "  return out, cache\n",
    "```\n",
    "\n",
    "The backward pass will receive upstream derivatives and the `cache` object, and will return gradients with respect to the inputs and weights, like this:\n",
    "\n",
    "```python\n",
    "def layer_backward(dout, cache):\n",
    "  \"\"\"\n",
    "  Receive dout (derivative of loss with respect to outputs) and cache,\n",
    "  and compute derivative with respect to inputs.\n",
    "  \"\"\"\n",
    "  # Unpack cache values\n",
    "  x, w, z, out = cache\n",
    "  \n",
    "  # Use values in cache to compute derivatives\n",
    "  dx = # Derivative of loss with respect to x\n",
    "  dw = # Derivative of loss with respect to w\n",
    "  \n",
    "  return dx, dw\n",
    "```\n",
    "\n",
    "After implementing a bunch of layers this way, we will be able to easily combine them to build classifiers with different architectures.\n",
    "\n",
    "In addition to implementing fully-connected networks of arbitrary depth, we will also explore different update rules for optimization, and introduce Dropout as a regularizer and Batch/Layer Normalization as a tool to more efficiently optimize deep networks.\n",
    "  "
   ]
  },
  {
   "cell_type": "code",
   "execution_count": 3,
   "metadata": {
    "ExecuteTime": {
     "end_time": "2019-04-02T13:20:30.826780Z",
     "start_time": "2019-04-02T13:20:30.298095Z"
    }
   },
   "outputs": [
    {
     "name": "stdout",
     "output_type": "stream",
     "text": [
      "The autoreload extension is already loaded. To reload it, use:\n",
      "  %reload_ext autoreload\n"
     ]
    }
   ],
   "source": [
    "# As usual, a bit of setup\n",
    "from __future__ import print_function\n",
    "import time\n",
    "import numpy as np\n",
    "import matplotlib.pyplot as plt\n",
    "from cs231n.classifiers.fc_net import *\n",
    "from cs231n.data_utils import get_CIFAR10_data\n",
    "from cs231n.gradient_check import eval_numerical_gradient, eval_numerical_gradient_array\n",
    "from cs231n.solver import Solver\n",
    "\n",
    "%matplotlib inline\n",
    "plt.rcParams['figure.figsize'] = (10.0, 8.0) # set default size of plots\n",
    "plt.rcParams['image.interpolation'] = 'nearest'\n",
    "plt.rcParams['image.cmap'] = 'gray'\n",
    "\n",
    "# for auto-reloading external modules\n",
    "# see http://stackoverflow.com/questions/1907993/autoreload-of-modules-in-ipython\n",
    "%load_ext autoreload\n",
    "%autoreload 2\n",
    "\n",
    "def rel_error(x, y):\n",
    "  \"\"\" returns relative error \"\"\"\n",
    "  return np.max(np.abs(x - y) / (np.maximum(1e-8, np.abs(x) + np.abs(y))))"
   ]
  },
  {
   "cell_type": "code",
   "execution_count": 4,
   "metadata": {
    "ExecuteTime": {
     "end_time": "2019-04-02T13:35:53.548644Z",
     "start_time": "2019-04-02T13:35:49.388744Z"
    }
   },
   "outputs": [
    {
     "name": "stdout",
     "output_type": "stream",
     "text": [
      "('X_train: ', (49000, 3, 32, 32))\n",
      "('y_train: ', (49000,))\n",
      "('X_val: ', (1000, 3, 32, 32))\n",
      "('y_val: ', (1000,))\n",
      "('X_test: ', (1000, 3, 32, 32))\n",
      "('y_test: ', (1000,))\n"
     ]
    }
   ],
   "source": [
    "# Load the (preprocessed) CIFAR10 data.\n",
    "\n",
    "data = get_CIFAR10_data()\n",
    "for k, v in list(data.items()):\n",
    "  print(('%s: ' % k, v.shape))"
   ]
  },
  {
   "cell_type": "markdown",
   "metadata": {},
   "source": [
    "# Affine layer: foward\n",
    "Open the file `cs231n/layers.py` and implement the `affine_forward` function.\n",
    "\n",
    "Once you are done you can test your implementaion by running the following:"
   ]
  },
  {
   "cell_type": "code",
   "execution_count": 5,
   "metadata": {
    "ExecuteTime": {
     "end_time": "2019-04-02T14:05:22.346174Z",
     "start_time": "2019-04-02T14:05:22.239462Z"
    }
   },
   "outputs": [
    {
     "name": "stdout",
     "output_type": "stream",
     "text": [
      "Testing affine_forward function:\n",
      "difference:  9.769847728806635e-10\n"
     ]
    }
   ],
   "source": [
    "# Test the affine_forward function\n",
    "\n",
    "num_inputs = 2\n",
    "input_shape = (4, 5, 6)\n",
    "output_dim = 3\n",
    "\n",
    "input_size = num_inputs * np.prod(input_shape)\n",
    "weight_size = output_dim * np.prod(input_shape)\n",
    "\n",
    "x = np.linspace(-0.1, 0.5, num=input_size).reshape(num_inputs, *input_shape)\n",
    "w = np.linspace(-0.2, 0.3, num=weight_size).reshape(np.prod(input_shape), output_dim)\n",
    "b = np.linspace(-0.3, 0.1, num=output_dim)\n",
    "\n",
    "out, _ = affine_forward(x, w, b)\n",
    "correct_out = np.array([[ 1.49834967,  1.70660132,  1.91485297],\n",
    "                        [ 3.25553199,  3.5141327,   3.77273342]])\n",
    "\n",
    "# Compare your output with ours. The error should be around e-9 or less.\n",
    "print('Testing affine_forward function:')\n",
    "print('difference: ', rel_error(out, correct_out))"
   ]
  },
  {
   "cell_type": "markdown",
   "metadata": {},
   "source": [
    "# Affine layer: backward\n",
    "Now implement the `affine_backward` function and test your implementation using numeric gradient checking."
   ]
  },
  {
   "cell_type": "code",
   "execution_count": 6,
   "metadata": {
    "ExecuteTime": {
     "end_time": "2019-04-02T14:31:17.590506Z",
     "start_time": "2019-04-02T14:31:17.489774Z"
    }
   },
   "outputs": [
    {
     "name": "stdout",
     "output_type": "stream",
     "text": [
      "Testing affine_backward function:\n",
      "dx error:  5.399100368651805e-11\n",
      "dw error:  9.904211865398145e-11\n",
      "db error:  2.4122867568119087e-11\n"
     ]
    }
   ],
   "source": [
    "# Test the affine_backward function\n",
    "np.random.seed(231)\n",
    "x = np.random.randn(10, 2, 3)\n",
    "w = np.random.randn(6, 5)\n",
    "b = np.random.randn(5)\n",
    "dout = np.random.randn(10, 5)\n",
    "\n",
    "dx_num = eval_numerical_gradient_array(lambda x: affine_forward(x, w, b)[0], x, dout)\n",
    "dw_num = eval_numerical_gradient_array(lambda w: affine_forward(x, w, b)[0], w, dout)\n",
    "db_num = eval_numerical_gradient_array(lambda b: affine_forward(x, w, b)[0], b, dout)\n",
    "\n",
    "_, cache = affine_forward(x, w, b)\n",
    "dx, dw, db = affine_backward(dout, cache)\n",
    "\n",
    "# The error should be around e-10 or less\n",
    "print('Testing affine_backward function:')\n",
    "print('dx error: ', rel_error(dx_num, dx))\n",
    "print('dw error: ', rel_error(dw_num, dw))\n",
    "print('db error: ', rel_error(db_num, db))"
   ]
  },
  {
   "cell_type": "markdown",
   "metadata": {},
   "source": [
    "# ReLU activation: forward\n",
    "Implement the forward pass for the ReLU activation function in the `relu_forward` function and test your implementation using the following:"
   ]
  },
  {
   "cell_type": "code",
   "execution_count": 7,
   "metadata": {
    "ExecuteTime": {
     "end_time": "2019-04-02T14:32:46.034779Z",
     "start_time": "2019-04-02T14:32:45.947018Z"
    }
   },
   "outputs": [
    {
     "name": "stdout",
     "output_type": "stream",
     "text": [
      "Testing relu_forward function:\n",
      "difference:  4.999999798022158e-08\n"
     ]
    }
   ],
   "source": [
    "# Test the relu_forward function\n",
    "\n",
    "x = np.linspace(-0.5, 0.5, num=12).reshape(3, 4)\n",
    "\n",
    "out, _ = relu_forward(x)\n",
    "correct_out = np.array([[ 0.,          0.,          0.,          0.,        ],\n",
    "                        [ 0.,          0.,          0.04545455,  0.13636364,],\n",
    "                        [ 0.22727273,  0.31818182,  0.40909091,  0.5,       ]])\n",
    "\n",
    "# Compare your output with ours. The error should be on the order of e-8\n",
    "print('Testing relu_forward function:')\n",
    "print('difference: ', rel_error(out, correct_out))"
   ]
  },
  {
   "cell_type": "markdown",
   "metadata": {},
   "source": [
    "# ReLU activation: backward\n",
    "Now implement the backward pass for the ReLU activation function in the `relu_backward` function and test your implementation using numeric gradient checking:"
   ]
  },
  {
   "cell_type": "code",
   "execution_count": 8,
   "metadata": {
    "ExecuteTime": {
     "end_time": "2019-04-02T14:34:28.357948Z",
     "start_time": "2019-04-02T14:34:28.267191Z"
    }
   },
   "outputs": [
    {
     "name": "stdout",
     "output_type": "stream",
     "text": [
      "Testing relu_backward function:\n",
      "dx error:  3.2756349136310288e-12\n"
     ]
    }
   ],
   "source": [
    "np.random.seed(231)\n",
    "x = np.random.randn(10, 10)\n",
    "dout = np.random.randn(*x.shape)\n",
    "\n",
    "dx_num = eval_numerical_gradient_array(lambda x: relu_forward(x)[0], x, dout)\n",
    "\n",
    "_, cache = relu_forward(x)\n",
    "dx = relu_backward(dout, cache)\n",
    "\n",
    "# The error should be on the order of e-12\n",
    "print('Testing relu_backward function:')\n",
    "print('dx error: ', rel_error(dx_num, dx))"
   ]
  },
  {
   "cell_type": "markdown",
   "metadata": {},
   "source": [
    "## Inline Question 1: \n",
    "\n",
    "We've only asked you to implement ReLU, but there are a number of different activation functions that one could use in neural networks, each with its pros and cons. In particular, an issue commonly seen with activation functions is getting zero (or close to zero) gradient flow during backpropagation. Which of the following activation functions have this problem? If you consider these functions in the one dimensional case, what types of input would lead to this behaviour?\n",
    "1. **Sigmoid**: -inf or inf\n",
    "2. **ReLU**: negative numbers\n",
    "3. Leaky ReLU"
   ]
  },
  {
   "cell_type": "markdown",
   "metadata": {},
   "source": [
    "# \"Sandwich\" layers\n",
    "There are some common patterns of layers that are frequently used in neural nets. For example, affine layers are frequently followed by a ReLU nonlinearity. To make these common patterns easy, we define several convenience layers in the file `cs231n/layer_utils.py`.\n",
    "\n",
    "For now take a look at the `affine_relu_forward` and `affine_relu_backward` functions, and run the following to numerically gradient check the backward pass:"
   ]
  },
  {
   "cell_type": "code",
   "execution_count": 9,
   "metadata": {
    "ExecuteTime": {
     "end_time": "2019-04-02T14:44:28.090550Z",
     "start_time": "2019-04-02T14:44:27.988845Z"
    }
   },
   "outputs": [
    {
     "name": "stdout",
     "output_type": "stream",
     "text": [
      "Testing affine_relu_forward and affine_relu_backward:\n",
      "dx error:  6.750562121603446e-11\n",
      "dw error:  8.162015570444288e-11\n",
      "db error:  7.826724021458994e-12\n"
     ]
    }
   ],
   "source": [
    "from cs231n.layer_utils import affine_relu_forward, affine_relu_backward\n",
    "np.random.seed(231)\n",
    "x = np.random.randn(2, 3, 4)\n",
    "w = np.random.randn(12, 10)\n",
    "b = np.random.randn(10)\n",
    "dout = np.random.randn(2, 10)\n",
    "\n",
    "out, cache = affine_relu_forward(x, w, b)\n",
    "dx, dw, db = affine_relu_backward(dout, cache)\n",
    "\n",
    "dx_num = eval_numerical_gradient_array(lambda x: affine_relu_forward(x, w, b)[0], x, dout)\n",
    "dw_num = eval_numerical_gradient_array(lambda w: affine_relu_forward(x, w, b)[0], w, dout)\n",
    "db_num = eval_numerical_gradient_array(lambda b: affine_relu_forward(x, w, b)[0], b, dout)\n",
    "\n",
    "# Relative error should be around e-10 or less\n",
    "print('Testing affine_relu_forward and affine_relu_backward:')\n",
    "print('dx error: ', rel_error(dx_num, dx))\n",
    "print('dw error: ', rel_error(dw_num, dw))\n",
    "print('db error: ', rel_error(db_num, db))"
   ]
  },
  {
   "cell_type": "markdown",
   "metadata": {},
   "source": [
    "# Loss layers: Softmax and SVM\n",
    "You implemented these loss functions in the last assignment, so we'll give them to you for free here. You should still make sure you understand how they work by looking at the implementations in `cs231n/layers.py`.\n",
    "\n",
    "You can make sure that the implementations are correct by running the following:"
   ]
  },
  {
   "cell_type": "code",
   "execution_count": 10,
   "metadata": {
    "ExecuteTime": {
     "end_time": "2019-04-02T14:52:58.782451Z",
     "start_time": "2019-04-02T14:52:58.583005Z"
    }
   },
   "outputs": [
    {
     "name": "stdout",
     "output_type": "stream",
     "text": [
      "Testing svm_loss:\n",
      "loss:  8.999602749096233\n",
      "dx error:  1.4021566006651672e-09\n",
      "\n",
      "Testing softmax_loss:\n",
      "loss:  2.302545844500738\n",
      "dx error:  9.384673161989355e-09\n"
     ]
    }
   ],
   "source": [
    "np.random.seed(231)\n",
    "num_classes, num_inputs = 10, 50\n",
    "x = 0.001 * np.random.randn(num_inputs, num_classes)\n",
    "y = np.random.randint(num_classes, size=num_inputs)\n",
    "\n",
    "dx_num = eval_numerical_gradient(lambda x: svm_loss(x, y)[0], x, verbose=False)\n",
    "loss, dx = svm_loss(x, y)\n",
    "\n",
    "# Test svm_loss function. Loss should be around 9 and dx error should be around the order of e-9\n",
    "print('Testing svm_loss:')\n",
    "print('loss: ', loss)\n",
    "print('dx error: ', rel_error(dx_num, dx))\n",
    "\n",
    "dx_num = eval_numerical_gradient(lambda x: softmax_loss(x, y)[0], x, verbose=False)\n",
    "loss, dx = softmax_loss(x, y)\n",
    "\n",
    "# Test softmax_loss function. Loss should be close to 2.3 and dx error should be around e-8\n",
    "print('\\nTesting softmax_loss:')\n",
    "print('loss: ', loss)\n",
    "print('dx error: ', rel_error(dx_num, dx))"
   ]
  },
  {
   "cell_type": "markdown",
   "metadata": {},
   "source": [
    "# Two-layer network\n",
    "In the previous assignment you implemented a two-layer neural network in a single monolithic class. Now that you have implemented modular versions of the necessary layers, you will reimplement the two layer network using these modular implementations.\n",
    "\n",
    "Open the file `cs231n/classifiers/fc_net.py` and complete the implementation of the `TwoLayerNet` class. This class will serve as a model for the other networks you will implement in this assignment, so read through it to make sure you understand the API. You can run the cell below to test your implementation."
   ]
  },
  {
   "cell_type": "code",
   "execution_count": 13,
   "metadata": {},
   "outputs": [
    {
     "name": "stdout",
     "output_type": "stream",
     "text": [
      "Testing initialization ... \n",
      "Testing test-time forward pass ... \n",
      "Testing training loss (no regularization)\n",
      "Running numeric gradient check with reg =  0.0\n",
      "W1 relative error: 1.52e-08\n",
      "W2 relative error: 3.48e-10\n",
      "b1 relative error: 6.55e-09\n",
      "b2 relative error: 4.33e-10\n",
      "Running numeric gradient check with reg =  0.7\n",
      "W1 relative error: 3.12e-07\n",
      "W2 relative error: 7.98e-08\n",
      "b1 relative error: 1.56e-08\n",
      "b2 relative error: 7.76e-10\n"
     ]
    }
   ],
   "source": [
    "np.random.seed(231)\n",
    "N, D, H, C = 3, 5, 50, 7\n",
    "X = np.random.randn(N, D)\n",
    "y = np.random.randint(C, size=N)\n",
    "\n",
    "std = 1e-3\n",
    "model = TwoLayerNet(input_dim=D, hidden_dim=H, num_classes=C, weight_scale=std)\n",
    "\n",
    "print('Testing initialization ... ')\n",
    "W1_std = abs(model.params['W1'].std() - std)\n",
    "b1 = model.params['b1']\n",
    "W2_std = abs(model.params['W2'].std() - std)\n",
    "b2 = model.params['b2']\n",
    "assert W1_std < std / 10, 'First layer weights do not seem right'\n",
    "assert np.all(b1 == 0), 'First layer biases do not seem right'\n",
    "assert W2_std < std / 10, 'Second layer weights do not seem right'\n",
    "assert np.all(b2 == 0), 'Second layer biases do not seem right'\n",
    "\n",
    "print('Testing test-time forward pass ... ')\n",
    "model.params['W1'] = np.linspace(-0.7, 0.3, num=D*H).reshape(D, H)\n",
    "model.params['b1'] = np.linspace(-0.1, 0.9, num=H)\n",
    "model.params['W2'] = np.linspace(-0.3, 0.4, num=H*C).reshape(H, C)\n",
    "model.params['b2'] = np.linspace(-0.9, 0.1, num=C)\n",
    "X = np.linspace(-5.5, 4.5, num=N*D).reshape(D, N).T\n",
    "scores = model.loss(X)\n",
    "correct_scores = np.asarray(\n",
    "  [[11.53165108,  12.2917344,   13.05181771,  13.81190102,  14.57198434, 15.33206765,  16.09215096],\n",
    "   [12.05769098,  12.74614105,  13.43459113,  14.1230412,   14.81149128, 15.49994135,  16.18839143],\n",
    "   [12.58373087,  13.20054771,  13.81736455,  14.43418138,  15.05099822, 15.66781506,  16.2846319 ]])\n",
    "scores_diff = np.abs(scores - correct_scores).sum()\n",
    "assert scores_diff < 1e-6, 'Problem with test-time forward pass'\n",
    "\n",
    "print('Testing training loss (no regularization)')\n",
    "y = np.asarray([0, 5, 1])\n",
    "loss, grads = model.loss(X, y)\n",
    "correct_loss = 3.4702243556\n",
    "assert abs(loss - correct_loss) < 1e-10, 'Problem with training-time loss'\n",
    "\n",
    "model.reg = 1.0\n",
    "loss, grads = model.loss(X, y)\n",
    "correct_loss = 26.5948426952\n",
    "assert abs(loss - correct_loss) < 1e-10, 'Problem with regularization loss'\n",
    "\n",
    "# Errors should be around e-7 or less\n",
    "for reg in [0.0, 0.7]:\n",
    "  print('Running numeric gradient check with reg = ', reg)\n",
    "  model.reg = reg\n",
    "  loss, grads = model.loss(X, y)\n",
    "\n",
    "  for name in sorted(grads):\n",
    "    f = lambda _: model.loss(X, y)[0]\n",
    "    grad_num = eval_numerical_gradient(f, model.params[name], verbose=False)\n",
    "    print('%s relative error: %.2e' % (name, rel_error(grad_num, grads[name])))"
   ]
  },
  {
   "cell_type": "markdown",
   "metadata": {},
   "source": [
    "# Solver\n",
    "In the previous assignment, the logic for training models was coupled to the models themselves. Following a more modular design, for this assignment we have split the logic for training models into a separate class.\n",
    "\n",
    "Open the file `cs231n/solver.py` and read through it to familiarize yourself with the API. After doing so, use a `Solver` instance to train a `TwoLayerNet` that achieves at least `50%` accuracy on the validation set."
   ]
  },
  {
   "cell_type": "code",
   "execution_count": 15,
   "metadata": {},
   "outputs": [
    {
     "name": "stdout",
     "output_type": "stream",
     "text": [
      "(Iteration 1 / 4900) loss: 2.377068\n",
      "(Epoch 0 / 10) train acc: 0.161000; val_acc: 0.156000\n",
      "(Iteration 11 / 4900) loss: 2.280947\n",
      "(Iteration 21 / 4900) loss: 2.163976\n",
      "(Iteration 31 / 4900) loss: 2.206465\n",
      "(Iteration 41 / 4900) loss: 2.059957\n",
      "(Iteration 51 / 4900) loss: 2.041784\n",
      "(Iteration 61 / 4900) loss: 1.974810\n",
      "(Iteration 71 / 4900) loss: 2.024766\n",
      "(Iteration 81 / 4900) loss: 1.884834\n",
      "(Iteration 91 / 4900) loss: 1.875837\n",
      "(Iteration 101 / 4900) loss: 1.883295\n",
      "(Iteration 111 / 4900) loss: 1.873302\n",
      "(Iteration 121 / 4900) loss: 1.752002\n",
      "(Iteration 131 / 4900) loss: 1.895693\n",
      "(Iteration 141 / 4900) loss: 1.712432\n",
      "(Iteration 151 / 4900) loss: 2.056537\n",
      "(Iteration 161 / 4900) loss: 1.724236\n",
      "(Iteration 171 / 4900) loss: 1.768630\n",
      "(Iteration 181 / 4900) loss: 1.804118\n",
      "(Iteration 191 / 4900) loss: 1.769648\n",
      "(Iteration 201 / 4900) loss: 1.763674\n",
      "(Iteration 211 / 4900) loss: 1.882663\n",
      "(Iteration 221 / 4900) loss: 1.868138\n",
      "(Iteration 231 / 4900) loss: 1.780686\n",
      "(Iteration 241 / 4900) loss: 1.812925\n",
      "(Iteration 251 / 4900) loss: 1.593216\n",
      "(Iteration 261 / 4900) loss: 1.681979\n",
      "(Iteration 271 / 4900) loss: 1.760920\n",
      "(Iteration 281 / 4900) loss: 1.486774\n",
      "(Iteration 291 / 4900) loss: 1.683336\n",
      "(Iteration 301 / 4900) loss: 1.783341\n",
      "(Iteration 311 / 4900) loss: 1.707880\n",
      "(Iteration 321 / 4900) loss: 1.864716\n",
      "(Iteration 331 / 4900) loss: 1.571989\n",
      "(Iteration 341 / 4900) loss: 1.590279\n",
      "(Iteration 351 / 4900) loss: 1.721420\n",
      "(Iteration 361 / 4900) loss: 1.714404\n",
      "(Iteration 371 / 4900) loss: 1.633109\n",
      "(Iteration 381 / 4900) loss: 1.754713\n",
      "(Iteration 391 / 4900) loss: 1.676907\n",
      "(Iteration 401 / 4900) loss: 1.726464\n",
      "(Iteration 411 / 4900) loss: 1.602890\n",
      "(Iteration 421 / 4900) loss: 1.580612\n",
      "(Iteration 431 / 4900) loss: 1.651157\n",
      "(Iteration 441 / 4900) loss: 1.872478\n",
      "(Iteration 451 / 4900) loss: 1.557522\n",
      "(Iteration 461 / 4900) loss: 1.636595\n",
      "(Iteration 471 / 4900) loss: 1.492454\n",
      "(Iteration 481 / 4900) loss: 1.737049\n",
      "(Epoch 1 / 10) train acc: 0.467000; val_acc: 0.437000\n",
      "(Iteration 491 / 4900) loss: 1.725455\n",
      "(Iteration 501 / 4900) loss: 1.880328\n",
      "(Iteration 511 / 4900) loss: 1.515058\n",
      "(Iteration 521 / 4900) loss: 1.736456\n",
      "(Iteration 531 / 4900) loss: 1.665415\n",
      "(Iteration 541 / 4900) loss: 1.607095\n",
      "(Iteration 551 / 4900) loss: 1.611024\n",
      "(Iteration 561 / 4900) loss: 1.717569\n",
      "(Iteration 571 / 4900) loss: 1.636803\n",
      "(Iteration 581 / 4900) loss: 1.748047\n",
      "(Iteration 591 / 4900) loss: 1.601995\n",
      "(Iteration 601 / 4900) loss: 1.715687\n",
      "(Iteration 611 / 4900) loss: 1.523504\n",
      "(Iteration 621 / 4900) loss: 1.630845\n",
      "(Iteration 631 / 4900) loss: 1.676860\n",
      "(Iteration 641 / 4900) loss: 1.646513\n",
      "(Iteration 651 / 4900) loss: 1.491795\n",
      "(Iteration 661 / 4900) loss: 1.562254\n",
      "(Iteration 671 / 4900) loss: 1.496038\n",
      "(Iteration 681 / 4900) loss: 1.612169\n",
      "(Iteration 691 / 4900) loss: 1.653248\n",
      "(Iteration 701 / 4900) loss: 1.787335\n",
      "(Iteration 711 / 4900) loss: 1.556478\n",
      "(Iteration 721 / 4900) loss: 1.756912\n",
      "(Iteration 731 / 4900) loss: 1.560256\n",
      "(Iteration 741 / 4900) loss: 1.836865\n",
      "(Iteration 751 / 4900) loss: 1.619644\n",
      "(Iteration 761 / 4900) loss: 1.699522\n",
      "(Iteration 771 / 4900) loss: 1.649260\n",
      "(Iteration 781 / 4900) loss: 1.542847\n",
      "(Iteration 791 / 4900) loss: 1.533067\n",
      "(Iteration 801 / 4900) loss: 1.511218\n",
      "(Iteration 811 / 4900) loss: 1.725704\n",
      "(Iteration 821 / 4900) loss: 1.647234\n",
      "(Iteration 831 / 4900) loss: 1.634062\n",
      "(Iteration 841 / 4900) loss: 1.577211\n",
      "(Iteration 851 / 4900) loss: 1.394155\n",
      "(Iteration 861 / 4900) loss: 1.895182\n",
      "(Iteration 871 / 4900) loss: 1.742252\n",
      "(Iteration 881 / 4900) loss: 1.528532\n",
      "(Iteration 891 / 4900) loss: 1.528889\n",
      "(Iteration 901 / 4900) loss: 1.511063\n",
      "(Iteration 911 / 4900) loss: 1.523551\n",
      "(Iteration 921 / 4900) loss: 1.584973\n",
      "(Iteration 931 / 4900) loss: 1.670129\n",
      "(Iteration 941 / 4900) loss: 1.481809\n",
      "(Iteration 951 / 4900) loss: 1.659828\n",
      "(Iteration 961 / 4900) loss: 1.680442\n",
      "(Iteration 971 / 4900) loss: 1.534821\n",
      "(Epoch 2 / 10) train acc: 0.540000; val_acc: 0.462000\n",
      "(Iteration 981 / 4900) loss: 1.483243\n",
      "(Iteration 991 / 4900) loss: 1.568125\n",
      "(Iteration 1001 / 4900) loss: 1.848306\n",
      "(Iteration 1011 / 4900) loss: 1.518717\n",
      "(Iteration 1021 / 4900) loss: 1.591404\n",
      "(Iteration 1031 / 4900) loss: 1.309104\n",
      "(Iteration 1041 / 4900) loss: 1.428639\n",
      "(Iteration 1051 / 4900) loss: 1.531287\n",
      "(Iteration 1061 / 4900) loss: 1.486082\n",
      "(Iteration 1071 / 4900) loss: 1.538019\n",
      "(Iteration 1081 / 4900) loss: 1.629505\n",
      "(Iteration 1091 / 4900) loss: 1.650710\n",
      "(Iteration 1101 / 4900) loss: 1.684807\n",
      "(Iteration 1111 / 4900) loss: 1.554759\n",
      "(Iteration 1121 / 4900) loss: 1.498432\n",
      "(Iteration 1131 / 4900) loss: 1.536574\n",
      "(Iteration 1141 / 4900) loss: 1.517136\n",
      "(Iteration 1151 / 4900) loss: 1.570271\n",
      "(Iteration 1161 / 4900) loss: 1.658415\n",
      "(Iteration 1171 / 4900) loss: 1.412507\n",
      "(Iteration 1181 / 4900) loss: 1.419575\n",
      "(Iteration 1191 / 4900) loss: 1.789351\n",
      "(Iteration 1201 / 4900) loss: 1.629110\n",
      "(Iteration 1211 / 4900) loss: 1.872412\n",
      "(Iteration 1221 / 4900) loss: 1.450503\n",
      "(Iteration 1231 / 4900) loss: 1.657790\n",
      "(Iteration 1241 / 4900) loss: 1.476955\n",
      "(Iteration 1251 / 4900) loss: 1.384333\n",
      "(Iteration 1261 / 4900) loss: 1.736337\n",
      "(Iteration 1271 / 4900) loss: 1.446072\n",
      "(Iteration 1281 / 4900) loss: 1.535285\n",
      "(Iteration 1291 / 4900) loss: 1.301486\n",
      "(Iteration 1301 / 4900) loss: 1.554771\n",
      "(Iteration 1311 / 4900) loss: 1.555743\n",
      "(Iteration 1321 / 4900) loss: 1.396055\n",
      "(Iteration 1331 / 4900) loss: 1.540929\n",
      "(Iteration 1341 / 4900) loss: 1.443837\n",
      "(Iteration 1351 / 4900) loss: 1.363140\n",
      "(Iteration 1361 / 4900) loss: 1.654005\n",
      "(Iteration 1371 / 4900) loss: 1.522963\n",
      "(Iteration 1381 / 4900) loss: 1.696442\n",
      "(Iteration 1391 / 4900) loss: 1.428352\n",
      "(Iteration 1401 / 4900) loss: 1.395644\n",
      "(Iteration 1411 / 4900) loss: 1.626445\n",
      "(Iteration 1421 / 4900) loss: 1.732289\n",
      "(Iteration 1431 / 4900) loss: 1.585763\n",
      "(Iteration 1441 / 4900) loss: 1.620249\n",
      "(Iteration 1451 / 4900) loss: 1.634381\n",
      "(Iteration 1461 / 4900) loss: 1.525843\n",
      "(Epoch 3 / 10) train acc: 0.510000; val_acc: 0.482000\n",
      "(Iteration 1471 / 4900) loss: 1.459646\n",
      "(Iteration 1481 / 4900) loss: 1.539022\n",
      "(Iteration 1491 / 4900) loss: 1.479114\n",
      "(Iteration 1501 / 4900) loss: 1.602535\n",
      "(Iteration 1511 / 4900) loss: 1.517337\n",
      "(Iteration 1521 / 4900) loss: 1.604348\n",
      "(Iteration 1531 / 4900) loss: 1.547979\n",
      "(Iteration 1541 / 4900) loss: 1.483760\n",
      "(Iteration 1551 / 4900) loss: 1.458728\n",
      "(Iteration 1561 / 4900) loss: 1.429826\n",
      "(Iteration 1571 / 4900) loss: 1.519781\n",
      "(Iteration 1581 / 4900) loss: 1.517662\n",
      "(Iteration 1591 / 4900) loss: 1.447125\n",
      "(Iteration 1601 / 4900) loss: 1.681112\n",
      "(Iteration 1611 / 4900) loss: 1.480730\n",
      "(Iteration 1621 / 4900) loss: 1.524573\n",
      "(Iteration 1631 / 4900) loss: 1.575319\n",
      "(Iteration 1641 / 4900) loss: 1.446464\n",
      "(Iteration 1651 / 4900) loss: 1.185567\n",
      "(Iteration 1661 / 4900) loss: 1.481447\n",
      "(Iteration 1671 / 4900) loss: 1.601242\n",
      "(Iteration 1681 / 4900) loss: 1.625283\n",
      "(Iteration 1691 / 4900) loss: 1.369942\n",
      "(Iteration 1701 / 4900) loss: 1.572296\n",
      "(Iteration 1711 / 4900) loss: 1.673417\n",
      "(Iteration 1721 / 4900) loss: 1.475142\n",
      "(Iteration 1731 / 4900) loss: 1.630395\n",
      "(Iteration 1741 / 4900) loss: 1.683305\n",
      "(Iteration 1751 / 4900) loss: 1.500394\n",
      "(Iteration 1761 / 4900) loss: 1.308245\n",
      "(Iteration 1771 / 4900) loss: 1.490555\n",
      "(Iteration 1781 / 4900) loss: 1.231682\n",
      "(Iteration 1791 / 4900) loss: 1.675797\n",
      "(Iteration 1801 / 4900) loss: 1.508656\n",
      "(Iteration 1811 / 4900) loss: 1.529336\n",
      "(Iteration 1821 / 4900) loss: 1.542600\n",
      "(Iteration 1831 / 4900) loss: 1.400237\n",
      "(Iteration 1841 / 4900) loss: 1.456431\n",
      "(Iteration 1851 / 4900) loss: 1.477299\n",
      "(Iteration 1861 / 4900) loss: 1.597715\n",
      "(Iteration 1871 / 4900) loss: 1.526820\n",
      "(Iteration 1881 / 4900) loss: 1.299354\n",
      "(Iteration 1891 / 4900) loss: 1.390857\n",
      "(Iteration 1901 / 4900) loss: 1.302357\n",
      "(Iteration 1911 / 4900) loss: 1.626701\n",
      "(Iteration 1921 / 4900) loss: 1.444785\n",
      "(Iteration 1931 / 4900) loss: 1.341089\n",
      "(Iteration 1941 / 4900) loss: 1.454532\n",
      "(Iteration 1951 / 4900) loss: 1.397456\n",
      "(Epoch 4 / 10) train acc: 0.496000; val_acc: 0.485000\n",
      "(Iteration 1961 / 4900) loss: 1.573209\n",
      "(Iteration 1971 / 4900) loss: 1.630136\n",
      "(Iteration 1981 / 4900) loss: 1.607877\n",
      "(Iteration 1991 / 4900) loss: 1.480891\n",
      "(Iteration 2001 / 4900) loss: 1.664118\n",
      "(Iteration 2011 / 4900) loss: 1.527121\n",
      "(Iteration 2021 / 4900) loss: 1.520559\n",
      "(Iteration 2031 / 4900) loss: 1.416448\n",
      "(Iteration 2041 / 4900) loss: 1.627621\n",
      "(Iteration 2051 / 4900) loss: 1.326520\n"
     ]
    },
    {
     "name": "stdout",
     "output_type": "stream",
     "text": [
      "(Iteration 2061 / 4900) loss: 1.598707\n",
      "(Iteration 2071 / 4900) loss: 1.317510\n",
      "(Iteration 2081 / 4900) loss: 1.483957\n",
      "(Iteration 2091 / 4900) loss: 1.604528\n",
      "(Iteration 2101 / 4900) loss: 1.467437\n",
      "(Iteration 2111 / 4900) loss: 1.412469\n",
      "(Iteration 2121 / 4900) loss: 1.434682\n",
      "(Iteration 2131 / 4900) loss: 1.597297\n",
      "(Iteration 2141 / 4900) loss: 1.389027\n",
      "(Iteration 2151 / 4900) loss: 1.600150\n",
      "(Iteration 2161 / 4900) loss: 1.440937\n",
      "(Iteration 2171 / 4900) loss: 1.661151\n",
      "(Iteration 2181 / 4900) loss: 1.334644\n",
      "(Iteration 2191 / 4900) loss: 1.560170\n",
      "(Iteration 2201 / 4900) loss: 1.552696\n",
      "(Iteration 2211 / 4900) loss: 1.437488\n",
      "(Iteration 2221 / 4900) loss: 1.361159\n",
      "(Iteration 2231 / 4900) loss: 1.378056\n",
      "(Iteration 2241 / 4900) loss: 1.566974\n",
      "(Iteration 2251 / 4900) loss: 1.288898\n",
      "(Iteration 2261 / 4900) loss: 1.420726\n",
      "(Iteration 2271 / 4900) loss: 1.489113\n",
      "(Iteration 2281 / 4900) loss: 1.579390\n",
      "(Iteration 2291 / 4900) loss: 1.423897\n",
      "(Iteration 2301 / 4900) loss: 1.488837\n",
      "(Iteration 2311 / 4900) loss: 1.538425\n",
      "(Iteration 2321 / 4900) loss: 1.469845\n",
      "(Iteration 2331 / 4900) loss: 1.480865\n",
      "(Iteration 2341 / 4900) loss: 1.504687\n",
      "(Iteration 2351 / 4900) loss: 1.450940\n",
      "(Iteration 2361 / 4900) loss: 1.603910\n",
      "(Iteration 2371 / 4900) loss: 1.580852\n",
      "(Iteration 2381 / 4900) loss: 1.534966\n",
      "(Iteration 2391 / 4900) loss: 1.376434\n",
      "(Iteration 2401 / 4900) loss: 1.358429\n",
      "(Iteration 2411 / 4900) loss: 1.473881\n",
      "(Iteration 2421 / 4900) loss: 1.291857\n",
      "(Iteration 2431 / 4900) loss: 1.588132\n",
      "(Iteration 2441 / 4900) loss: 1.524889\n",
      "(Epoch 5 / 10) train acc: 0.525000; val_acc: 0.505000\n",
      "(Iteration 2451 / 4900) loss: 1.369458\n",
      "(Iteration 2461 / 4900) loss: 1.492894\n",
      "(Iteration 2471 / 4900) loss: 1.602242\n",
      "(Iteration 2481 / 4900) loss: 1.466389\n",
      "(Iteration 2491 / 4900) loss: 1.419419\n",
      "(Iteration 2501 / 4900) loss: 1.462014\n",
      "(Iteration 2511 / 4900) loss: 1.596249\n",
      "(Iteration 2521 / 4900) loss: 1.346652\n",
      "(Iteration 2531 / 4900) loss: 1.576062\n",
      "(Iteration 2541 / 4900) loss: 1.426793\n",
      "(Iteration 2551 / 4900) loss: 1.424031\n",
      "(Iteration 2561 / 4900) loss: 1.401463\n",
      "(Iteration 2571 / 4900) loss: 1.615443\n",
      "(Iteration 2581 / 4900) loss: 1.643418\n",
      "(Iteration 2591 / 4900) loss: 1.364144\n",
      "(Iteration 2601 / 4900) loss: 1.399139\n",
      "(Iteration 2611 / 4900) loss: 1.585036\n",
      "(Iteration 2621 / 4900) loss: 1.401092\n",
      "(Iteration 2631 / 4900) loss: 1.257379\n",
      "(Iteration 2641 / 4900) loss: 1.557031\n",
      "(Iteration 2651 / 4900) loss: 1.359010\n",
      "(Iteration 2661 / 4900) loss: 1.709806\n",
      "(Iteration 2671 / 4900) loss: 1.528741\n",
      "(Iteration 2681 / 4900) loss: 1.427850\n",
      "(Iteration 2691 / 4900) loss: 1.516224\n",
      "(Iteration 2701 / 4900) loss: 1.397646\n",
      "(Iteration 2711 / 4900) loss: 1.418550\n",
      "(Iteration 2721 / 4900) loss: 1.533280\n",
      "(Iteration 2731 / 4900) loss: 1.397512\n",
      "(Iteration 2741 / 4900) loss: 1.328824\n",
      "(Iteration 2751 / 4900) loss: 1.454065\n",
      "(Iteration 2761 / 4900) loss: 1.610353\n",
      "(Iteration 2771 / 4900) loss: 1.536906\n",
      "(Iteration 2781 / 4900) loss: 1.347293\n",
      "(Iteration 2791 / 4900) loss: 1.293449\n",
      "(Iteration 2801 / 4900) loss: 1.562261\n",
      "(Iteration 2811 / 4900) loss: 1.418374\n",
      "(Iteration 2821 / 4900) loss: 1.542834\n",
      "(Iteration 2831 / 4900) loss: 1.291789\n",
      "(Iteration 2841 / 4900) loss: 1.450975\n",
      "(Iteration 2851 / 4900) loss: 1.616581\n",
      "(Iteration 2861 / 4900) loss: 1.566883\n",
      "(Iteration 2871 / 4900) loss: 1.440188\n",
      "(Iteration 2881 / 4900) loss: 1.484064\n",
      "(Iteration 2891 / 4900) loss: 1.225719\n",
      "(Iteration 2901 / 4900) loss: 1.336341\n",
      "(Iteration 2911 / 4900) loss: 1.544490\n",
      "(Iteration 2921 / 4900) loss: 1.508563\n",
      "(Iteration 2931 / 4900) loss: 1.495965\n",
      "(Epoch 6 / 10) train acc: 0.556000; val_acc: 0.499000\n",
      "(Iteration 2941 / 4900) loss: 1.597903\n",
      "(Iteration 2951 / 4900) loss: 1.637434\n",
      "(Iteration 2961 / 4900) loss: 1.370766\n",
      "(Iteration 2971 / 4900) loss: 1.537292\n",
      "(Iteration 2981 / 4900) loss: 1.317889\n",
      "(Iteration 2991 / 4900) loss: 1.315144\n",
      "(Iteration 3001 / 4900) loss: 1.552122\n",
      "(Iteration 3011 / 4900) loss: 1.737790\n",
      "(Iteration 3021 / 4900) loss: 1.627975\n",
      "(Iteration 3031 / 4900) loss: 1.677194\n",
      "(Iteration 3041 / 4900) loss: 1.457172\n",
      "(Iteration 3051 / 4900) loss: 1.303022\n",
      "(Iteration 3061 / 4900) loss: 1.485685\n",
      "(Iteration 3071 / 4900) loss: 1.599141\n",
      "(Iteration 3081 / 4900) loss: 1.550760\n",
      "(Iteration 3091 / 4900) loss: 1.575481\n",
      "(Iteration 3101 / 4900) loss: 1.639979\n",
      "(Iteration 3111 / 4900) loss: 1.442541\n",
      "(Iteration 3121 / 4900) loss: 1.481057\n",
      "(Iteration 3131 / 4900) loss: 1.421926\n",
      "(Iteration 3141 / 4900) loss: 1.316019\n",
      "(Iteration 3151 / 4900) loss: 1.550568\n",
      "(Iteration 3161 / 4900) loss: 1.449428\n",
      "(Iteration 3171 / 4900) loss: 1.494645\n",
      "(Iteration 3181 / 4900) loss: 1.382585\n",
      "(Iteration 3191 / 4900) loss: 1.379558\n",
      "(Iteration 3201 / 4900) loss: 1.521450\n",
      "(Iteration 3211 / 4900) loss: 1.454660\n",
      "(Iteration 3221 / 4900) loss: 1.496286\n",
      "(Iteration 3231 / 4900) loss: 1.684521\n",
      "(Iteration 3241 / 4900) loss: 1.526253\n",
      "(Iteration 3251 / 4900) loss: 1.305082\n",
      "(Iteration 3261 / 4900) loss: 1.673561\n",
      "(Iteration 3271 / 4900) loss: 1.460239\n",
      "(Iteration 3281 / 4900) loss: 1.595145\n",
      "(Iteration 3291 / 4900) loss: 1.239933\n",
      "(Iteration 3301 / 4900) loss: 1.508070\n",
      "(Iteration 3311 / 4900) loss: 1.323994\n",
      "(Iteration 3321 / 4900) loss: 1.443923\n",
      "(Iteration 3331 / 4900) loss: 1.393817\n",
      "(Iteration 3341 / 4900) loss: 1.463935\n",
      "(Iteration 3351 / 4900) loss: 1.345213\n",
      "(Iteration 3361 / 4900) loss: 1.550267\n",
      "(Iteration 3371 / 4900) loss: 1.449157\n",
      "(Iteration 3381 / 4900) loss: 1.461575\n",
      "(Iteration 3391 / 4900) loss: 1.426451\n",
      "(Iteration 3401 / 4900) loss: 1.617181\n",
      "(Iteration 3411 / 4900) loss: 1.373610\n",
      "(Iteration 3421 / 4900) loss: 1.461171\n",
      "(Epoch 7 / 10) train acc: 0.526000; val_acc: 0.499000\n",
      "(Iteration 3431 / 4900) loss: 1.487637\n",
      "(Iteration 3441 / 4900) loss: 1.496918\n",
      "(Iteration 3451 / 4900) loss: 1.511950\n",
      "(Iteration 3461 / 4900) loss: 1.456030\n",
      "(Iteration 3471 / 4900) loss: 1.486455\n",
      "(Iteration 3481 / 4900) loss: 1.262141\n",
      "(Iteration 3491 / 4900) loss: 1.531791\n",
      "(Iteration 3501 / 4900) loss: 1.454696\n",
      "(Iteration 3511 / 4900) loss: 1.645001\n",
      "(Iteration 3521 / 4900) loss: 1.544348\n",
      "(Iteration 3531 / 4900) loss: 1.326080\n",
      "(Iteration 3541 / 4900) loss: 1.557618\n",
      "(Iteration 3551 / 4900) loss: 1.345378\n",
      "(Iteration 3561 / 4900) loss: 1.483573\n",
      "(Iteration 3571 / 4900) loss: 1.466918\n",
      "(Iteration 3581 / 4900) loss: 1.291307\n",
      "(Iteration 3591 / 4900) loss: 1.373130\n",
      "(Iteration 3601 / 4900) loss: 1.447083\n",
      "(Iteration 3611 / 4900) loss: 1.504865\n",
      "(Iteration 3621 / 4900) loss: 1.355862\n",
      "(Iteration 3631 / 4900) loss: 1.307157\n",
      "(Iteration 3641 / 4900) loss: 1.727023\n",
      "(Iteration 3651 / 4900) loss: 1.680346\n",
      "(Iteration 3661 / 4900) loss: 1.727678\n",
      "(Iteration 3671 / 4900) loss: 1.356786\n",
      "(Iteration 3681 / 4900) loss: 1.582186\n",
      "(Iteration 3691 / 4900) loss: 1.369276\n",
      "(Iteration 3701 / 4900) loss: 1.503766\n",
      "(Iteration 3711 / 4900) loss: 1.463009\n",
      "(Iteration 3721 / 4900) loss: 1.361521\n",
      "(Iteration 3731 / 4900) loss: 1.494917\n",
      "(Iteration 3741 / 4900) loss: 1.543491\n",
      "(Iteration 3751 / 4900) loss: 1.895711\n",
      "(Iteration 3761 / 4900) loss: 1.568979\n",
      "(Iteration 3771 / 4900) loss: 1.375058\n",
      "(Iteration 3781 / 4900) loss: 1.387637\n",
      "(Iteration 3791 / 4900) loss: 1.360027\n",
      "(Iteration 3801 / 4900) loss: 1.396698\n",
      "(Iteration 3811 / 4900) loss: 1.339352\n",
      "(Iteration 3821 / 4900) loss: 1.266035\n",
      "(Iteration 3831 / 4900) loss: 1.373572\n",
      "(Iteration 3841 / 4900) loss: 1.461124\n",
      "(Iteration 3851 / 4900) loss: 1.332162\n",
      "(Iteration 3861 / 4900) loss: 1.398433\n",
      "(Iteration 3871 / 4900) loss: 1.671192\n",
      "(Iteration 3881 / 4900) loss: 1.354573\n",
      "(Iteration 3891 / 4900) loss: 1.579708\n",
      "(Iteration 3901 / 4900) loss: 1.403709\n",
      "(Iteration 3911 / 4900) loss: 1.389953\n",
      "(Epoch 8 / 10) train acc: 0.515000; val_acc: 0.497000\n",
      "(Iteration 3921 / 4900) loss: 1.634318\n",
      "(Iteration 3931 / 4900) loss: 1.612162\n",
      "(Iteration 3941 / 4900) loss: 1.576723\n",
      "(Iteration 3951 / 4900) loss: 1.617930\n",
      "(Iteration 3961 / 4900) loss: 1.457733\n",
      "(Iteration 3971 / 4900) loss: 1.473527\n",
      "(Iteration 3981 / 4900) loss: 1.634885\n",
      "(Iteration 3991 / 4900) loss: 1.639839\n",
      "(Iteration 4001 / 4900) loss: 1.341339\n",
      "(Iteration 4011 / 4900) loss: 1.484639\n",
      "(Iteration 4021 / 4900) loss: 1.539288\n",
      "(Iteration 4031 / 4900) loss: 1.449454\n",
      "(Iteration 4041 / 4900) loss: 1.456013\n",
      "(Iteration 4051 / 4900) loss: 1.346850\n",
      "(Iteration 4061 / 4900) loss: 1.503154\n",
      "(Iteration 4071 / 4900) loss: 1.352551\n",
      "(Iteration 4081 / 4900) loss: 1.539239\n",
      "(Iteration 4091 / 4900) loss: 1.737529\n",
      "(Iteration 4101 / 4900) loss: 1.398175\n"
     ]
    },
    {
     "name": "stdout",
     "output_type": "stream",
     "text": [
      "(Iteration 4111 / 4900) loss: 1.384283\n",
      "(Iteration 4121 / 4900) loss: 1.576309\n",
      "(Iteration 4131 / 4900) loss: 1.412676\n",
      "(Iteration 4141 / 4900) loss: 1.275019\n",
      "(Iteration 4151 / 4900) loss: 1.278766\n",
      "(Iteration 4161 / 4900) loss: 1.706218\n",
      "(Iteration 4171 / 4900) loss: 1.358532\n",
      "(Iteration 4181 / 4900) loss: 1.389906\n",
      "(Iteration 4191 / 4900) loss: 1.509223\n",
      "(Iteration 4201 / 4900) loss: 1.449722\n",
      "(Iteration 4211 / 4900) loss: 1.441147\n",
      "(Iteration 4221 / 4900) loss: 1.209497\n",
      "(Iteration 4231 / 4900) loss: 1.496658\n",
      "(Iteration 4241 / 4900) loss: 1.376802\n",
      "(Iteration 4251 / 4900) loss: 1.280901\n",
      "(Iteration 4261 / 4900) loss: 1.583956\n",
      "(Iteration 4271 / 4900) loss: 1.670077\n",
      "(Iteration 4281 / 4900) loss: 1.397637\n",
      "(Iteration 4291 / 4900) loss: 1.614277\n",
      "(Iteration 4301 / 4900) loss: 1.441481\n",
      "(Iteration 4311 / 4900) loss: 1.298036\n",
      "(Iteration 4321 / 4900) loss: 1.504338\n",
      "(Iteration 4331 / 4900) loss: 1.523629\n",
      "(Iteration 4341 / 4900) loss: 1.351257\n",
      "(Iteration 4351 / 4900) loss: 1.495036\n",
      "(Iteration 4361 / 4900) loss: 1.590517\n",
      "(Iteration 4371 / 4900) loss: 1.306110\n",
      "(Iteration 4381 / 4900) loss: 1.390062\n",
      "(Iteration 4391 / 4900) loss: 1.513386\n",
      "(Iteration 4401 / 4900) loss: 1.477820\n",
      "(Epoch 9 / 10) train acc: 0.535000; val_acc: 0.485000\n",
      "(Iteration 4411 / 4900) loss: 1.508720\n",
      "(Iteration 4421 / 4900) loss: 1.277750\n",
      "(Iteration 4431 / 4900) loss: 1.446556\n",
      "(Iteration 4441 / 4900) loss: 1.580448\n",
      "(Iteration 4451 / 4900) loss: 1.429768\n",
      "(Iteration 4461 / 4900) loss: 1.570485\n",
      "(Iteration 4471 / 4900) loss: 1.433961\n",
      "(Iteration 4481 / 4900) loss: 1.380687\n",
      "(Iteration 4491 / 4900) loss: 1.453190\n",
      "(Iteration 4501 / 4900) loss: 1.482536\n",
      "(Iteration 4511 / 4900) loss: 1.514173\n",
      "(Iteration 4521 / 4900) loss: 1.558037\n",
      "(Iteration 4531 / 4900) loss: 1.419196\n",
      "(Iteration 4541 / 4900) loss: 1.466310\n",
      "(Iteration 4551 / 4900) loss: 1.410504\n",
      "(Iteration 4561 / 4900) loss: 1.432543\n",
      "(Iteration 4571 / 4900) loss: 1.513582\n",
      "(Iteration 4581 / 4900) loss: 1.468799\n",
      "(Iteration 4591 / 4900) loss: 1.585769\n",
      "(Iteration 4601 / 4900) loss: 1.334915\n",
      "(Iteration 4611 / 4900) loss: 1.379648\n",
      "(Iteration 4621 / 4900) loss: 1.415469\n",
      "(Iteration 4631 / 4900) loss: 1.353242\n",
      "(Iteration 4641 / 4900) loss: 1.505428\n",
      "(Iteration 4651 / 4900) loss: 1.611304\n",
      "(Iteration 4661 / 4900) loss: 1.503043\n",
      "(Iteration 4671 / 4900) loss: 1.492777\n",
      "(Iteration 4681 / 4900) loss: 1.613625\n",
      "(Iteration 4691 / 4900) loss: 1.560123\n",
      "(Iteration 4701 / 4900) loss: 1.298784\n",
      "(Iteration 4711 / 4900) loss: 1.480529\n",
      "(Iteration 4721 / 4900) loss: 1.609029\n",
      "(Iteration 4731 / 4900) loss: 1.430881\n",
      "(Iteration 4741 / 4900) loss: 1.354851\n",
      "(Iteration 4751 / 4900) loss: 1.509067\n",
      "(Iteration 4761 / 4900) loss: 1.540943\n",
      "(Iteration 4771 / 4900) loss: 1.474291\n",
      "(Iteration 4781 / 4900) loss: 1.427694\n",
      "(Iteration 4791 / 4900) loss: 1.468730\n",
      "(Iteration 4801 / 4900) loss: 1.572310\n",
      "(Iteration 4811 / 4900) loss: 1.377384\n",
      "(Iteration 4821 / 4900) loss: 1.345555\n",
      "(Iteration 4831 / 4900) loss: 1.350750\n",
      "(Iteration 4841 / 4900) loss: 1.589602\n",
      "(Iteration 4851 / 4900) loss: 1.397691\n",
      "(Iteration 4861 / 4900) loss: 1.188947\n",
      "(Iteration 4871 / 4900) loss: 1.201700\n",
      "(Iteration 4881 / 4900) loss: 1.367118\n",
      "(Iteration 4891 / 4900) loss: 1.461987\n",
      "(Epoch 10 / 10) train acc: 0.577000; val_acc: 0.497000\n"
     ]
    }
   ],
   "source": [
    "import time\n",
    "model = TwoLayerNet(hidden_dim=120, reg=4e-1)\n",
    "solver = Solver(model, data, optim_config={'learning_rate':1e-3})\n",
    "\n",
    "tic = time.time()\n",
    "solver.train()\n",
    "toc = time.time()\n",
    "print('That took %d seconds' % (toc - tic))\n"
   ]
  },
  {
   "cell_type": "code",
   "execution_count": 16,
   "metadata": {},
   "outputs": [
    {
     "data": {
      "image/png": "[encoded data removed]",
      "text/plain": [
       "<Figure size 1080x864 with 2 Axes>"
      ]
     },
     "metadata": {
      "needs_background": "light"
     },
     "output_type": "display_data"
    }
   ],
   "source": [
    "# Run this cell to visualize training loss and train / val accuracy\n",
    "\n",
    "plt.subplot(2, 1, 1)\n",
    "plt.title('Training loss')\n",
    "plt.plot(solver.loss_history, 'o')\n",
    "plt.xlabel('Iteration')\n",
    "\n",
    "plt.subplot(2, 1, 2)\n",
    "plt.title('Accuracy')\n",
    "plt.plot(solver.train_acc_history, '-o', label='train')\n",
    "plt.plot(solver.val_acc_history, '-o', label='val')\n",
    "plt.plot([0.5] * len(solver.val_acc_history), 'k--')\n",
    "plt.xlabel('Epoch')\n",
    "plt.legend(loc='lower right')\n",
    "plt.gcf().set_size_inches(15, 12)\n",
    "plt.show()"
   ]
  },
  {
   "cell_type": "markdown",
   "metadata": {},
   "source": [
    "# Multilayer network\n",
    "Next you will implement a fully-connected network with an arbitrary number of hidden layers.\n",
    "\n",
    "Read through the `FullyConnectedNet` class in the file `cs231n/classifiers/fc_net.py`.\n",
    "\n",
    "Implement the initialization, the forward pass, and the backward pass. For the moment don't worry about implementing dropout or batch/layer normalization; we will add those features soon."
   ]
  },
  {
   "cell_type": "markdown",
   "metadata": {},
   "source": [
    "## Initial loss and gradient check"
   ]
  },
  {
   "cell_type": "markdown",
   "metadata": {},
   "source": [
    "As a sanity check, run the following to check the initial loss and to gradient check the network both with and without regularization. Do the initial losses seem reasonable?\n",
    "\n",
    "For gradient checking, you should expect to see errors around 1e-7 or less."
   ]
  },
  {
   "cell_type": "code",
   "execution_count": 20,
   "metadata": {},
   "outputs": [
    {
     "name": "stdout",
     "output_type": "stream",
     "text": [
      "Running check with reg =  0\n",
      "Initial loss:  2.3004790897684924\n",
      "W0 relative error: 1.48e-07\n",
      "W1 relative error: 2.21e-05\n",
      "W2 relative error: 3.53e-07\n",
      "b0 relative error: 5.38e-09\n",
      "b1 relative error: 2.09e-09\n",
      "b2 relative error: 5.80e-11\n",
      "Running check with reg =  3.14\n",
      "Initial loss:  7.052114776533016\n",
      "W0 relative error: 3.90e-09\n",
      "W1 relative error: 6.87e-08\n",
      "W2 relative error: 2.13e-08\n",
      "b0 relative error: 1.48e-08\n",
      "b1 relative error: 1.72e-09\n",
      "b2 relative error: 1.57e-10\n"
     ]
    }
   ],
   "source": [
    "np.random.seed(231)\n",
    "N, D, H1, H2, C = 2, 15, 20, 30, 10\n",
    "X = np.random.randn(N, D)\n",
    "y = np.random.randint(C, size=(N,))\n",
    "\n",
    "for reg in [0, 3.14]:\n",
    "  print('Running check with reg = ', reg)\n",
    "  model = FullyConnectedNet([H1, H2], input_dim=D, num_classes=C,\n",
    "                            reg=reg, weight_scale=5e-2, dtype=np.float64)\n",
    "\n",
    "  loss, grads = model.loss(X, y)\n",
    "  print('Initial loss: ', loss)\n",
    "  \n",
    "  # Most of the errors should be on the order of e-7 or smaller.   \n",
    "  # NOTE: It is fine however to see an error for W2 on the order of e-5\n",
    "  # for the check when reg = 0.0\n",
    "  for name in sorted(grads):\n",
    "    f = lambda _: model.loss(X, y)[0]\n",
    "    grad_num = eval_numerical_gradient(f, model.params[name], verbose=False, h=1e-5)\n",
    "    print('%s relative error: %.2e' % (name, rel_error(grad_num, grads[name])))"
   ]
  },
  {
   "cell_type": "markdown",
   "metadata": {},
   "source": [
    "As another sanity check, make sure you can overfit a small dataset of 50 images. First we will try a three-layer network with 100 units in each hidden layer. In the following cell, tweak the learning rate and initialization scale to overfit and achieve 100% training accuracy within 20 epochs."
   ]
  },
  {
   "cell_type": "code",
   "execution_count": null,
   "metadata": {
    "collapsed": true,
    "scrolled": false
   },
   "outputs": [],
   "source": [
    "# TODO: Use a three-layer Net to overfit 50 training examples by \n",
    "# tweaking just the learning rate and initialization scale.\n",
    "\n",
    "num_train = 50\n",
    "small_data = {\n",
    "  'X_train': data['X_train'][:num_train],\n",
    "  'y_train': data['y_train'][:num_train],\n",
    "  'X_val': data['X_val'],\n",
    "  'y_val': data['y_val'],\n",
    "}\n",
    "\n",
    "weight_scale = 1e-2\n",
    "learning_rate = 1e-4\n",
    "model = FullyConnectedNet([100, 100],\n",
    "              weight_scale=weight_scale, dtype=np.float64)\n",
    "solver = Solver(model, small_data,\n",
    "                print_every=10, num_epochs=20, batch_size=25,\n",
    "                update_rule='sgd',\n",
    "                optim_config={\n",
    "                  'learning_rate': learning_rate,\n",
    "                }\n",
    "         )\n",
    "solver.train()\n",
    "\n",
    "plt.plot(solver.loss_history, 'o')\n",
    "plt.title('Training loss history')\n",
    "plt.xlabel('Iteration')\n",
    "plt.ylabel('Training loss')\n",
    "plt.show()"
   ]
  },
  {
   "cell_type": "markdown",
   "metadata": {},
   "source": [
    "Now try to use a five-layer network with 100 units on each layer to overfit 50 training examples. Again you will have to adjust the learning rate and weight initialization, but you should be able to achieve 100% training accuracy within 20 epochs."
   ]
  },
  {
   "cell_type": "code",
   "execution_count": null,
   "metadata": {
    "collapsed": true
   },
   "outputs": [],
   "source": [
    "# TODO: Use a five-layer Net to overfit 50 training examples by \n",
    "# tweaking just the learning rate and initialization scale.\n",
    "\n",
    "num_train = 50\n",
    "small_data = {\n",
    "  'X_train': data['X_train'][:num_train],\n",
    "  'y_train': data['y_train'][:num_train],\n",
    "  'X_val': data['X_val'],\n",
    "  'y_val': data['y_val'],\n",
    "}\n",
    "\n",
    "learning_rate = 2e-3\n",
    "weight_scale = 1e-5\n",
    "model = FullyConnectedNet([100, 100, 100, 100],\n",
    "                weight_scale=weight_scale, dtype=np.float64)\n",
    "solver = Solver(model, small_data,\n",
    "                print_every=10, num_epochs=20, batch_size=25,\n",
    "                update_rule='sgd',\n",
    "                optim_config={\n",
    "                  'learning_rate': learning_rate,\n",
    "                }\n",
    "         )\n",
    "solver.train()\n",
    "\n",
    "plt.plot(solver.loss_history, 'o')\n",
    "plt.title('Training loss history')\n",
    "plt.xlabel('Iteration')\n",
    "plt.ylabel('Training loss')\n",
    "plt.show()"
   ]
  },
  {
   "cell_type": "markdown",
   "metadata": {},
   "source": [
    "## Inline Question 2: \n",
    "Did you notice anything about the comparative difficulty of training the three-layer net vs training the five layer net? In particular, based on your experience, which network seemed more sensitive to the initialization scale? Why do you think that is the case?"
   ]
  },
  {
   "cell_type": "markdown",
   "metadata": {},
   "source": [
    "## Answer:\n",
    "[FILL THIS IN]\n"
   ]
  },
  {
   "cell_type": "markdown",
   "metadata": {},
   "source": [
    "# Update rules\n",
    "So far we have used vanilla stochastic gradient descent (SGD) as our update rule. More sophisticated update rules can make it easier to train deep networks. We will implement a few of the most commonly used update rules and compare them to vanilla SGD."
   ]
  },
  {
   "cell_type": "markdown",
   "metadata": {},
   "source": [
    "# SGD+Momentum\n",
    "Stochastic gradient descent with momentum is a widely used update rule that tends to make deep networks converge faster than vanilla stochastic gradient descent. See the Momentum Update section at http://cs231n.github.io/neural-networks-3/#sgd for more information.\n",
    "\n",
    "Open the file `cs231n/optim.py` and read the documentation at the top of the file to make sure you understand the API. Implement the SGD+momentum update rule in the function `sgd_momentum` and run the following to check your implementation. You should see errors less than e-8."
   ]
  },
  {
   "cell_type": "code",
   "execution_count": null,
   "metadata": {
    "collapsed": true
   },
   "outputs": [],
   "source": [
    "from cs231n.optim import sgd_momentum\n",
    "\n",
    "N, D = 4, 5\n",
    "w = np.linspace(-0.4, 0.6, num=N*D).reshape(N, D)\n",
    "dw = np.linspace(-0.6, 0.4, num=N*D).reshape(N, D)\n",
    "v = np.linspace(0.6, 0.9, num=N*D).reshape(N, D)\n",
    "\n",
    "config = {'learning_rate': 1e-3, 'velocity': v}\n",
    "next_w, _ = sgd_momentum(w, dw, config=config)\n",
    "\n",
    "expected_next_w = np.asarray([\n",
    "  [ 0.1406,      0.20738947,  0.27417895,  0.34096842,  0.40775789],\n",
    "  [ 0.47454737,  0.54133684,  0.60812632,  0.67491579,  0.74170526],\n",
    "  [ 0.80849474,  0.87528421,  0.94207368,  1.00886316,  1.07565263],\n",
    "  [ 1.14244211,  1.20923158,  1.27602105,  1.34281053,  1.4096    ]])\n",
    "expected_velocity = np.asarray([\n",
    "  [ 0.5406,      0.55475789,  0.56891579, 0.58307368,  0.59723158],\n",
    "  [ 0.61138947,  0.62554737,  0.63970526,  0.65386316,  0.66802105],\n",
    "  [ 0.68217895,  0.69633684,  0.71049474,  0.72465263,  0.73881053],\n",
    "  [ 0.75296842,  0.76712632,  0.78128421,  0.79544211,  0.8096    ]])\n",
    "\n",
    "# Should see relative errors around e-8 or less\n",
    "print('next_w error: ', rel_error(next_w, expected_next_w))\n",
    "print('velocity error: ', rel_error(expected_velocity, config['velocity']))"
   ]
  },
  {
   "cell_type": "markdown",
   "metadata": {},
   "source": [
    "Once you have done so, run the following to train a six-layer network with both SGD and SGD+momentum. You should see the SGD+momentum update rule converge faster."
   ]
  },
  {
   "cell_type": "code",
   "execution_count": null,
   "metadata": {
    "collapsed": true,
    "scrolled": false
   },
   "outputs": [],
   "source": [
    "num_train = 4000\n",
    "small_data = {\n",
    "  'X_train': data['X_train'][:num_train],\n",
    "  'y_train': data['y_train'][:num_train],\n",
    "  'X_val': data['X_val'],\n",
    "  'y_val': data['y_val'],\n",
    "}\n",
    "\n",
    "solvers = {}\n",
    "\n",
    "for update_rule in ['sgd', 'sgd_momentum']:\n",
    "  print('running with ', update_rule)\n",
    "  model = FullyConnectedNet([100, 100, 100, 100, 100], weight_scale=5e-2)\n",
    "\n",
    "  solver = Solver(model, small_data,\n",
    "                  num_epochs=5, batch_size=100,\n",
    "                  update_rule=update_rule,\n",
    "                  optim_config={\n",
    "                    'learning_rate': 1e-2,\n",
    "                  },\n",
    "                  verbose=True)\n",
    "  solvers[update_rule] = solver\n",
    "  solver.train()\n",
    "  print()\n",
    "\n",
    "plt.subplot(3, 1, 1)\n",
    "plt.title('Training loss')\n",
    "plt.xlabel('Iteration')\n",
    "\n",
    "plt.subplot(3, 1, 2)\n",
    "plt.title('Training accuracy')\n",
    "plt.xlabel('Epoch')\n",
    "\n",
    "plt.subplot(3, 1, 3)\n",
    "plt.title('Validation accuracy')\n",
    "plt.xlabel('Epoch')\n",
    "\n",
    "for update_rule, solver in list(solvers.items()):\n",
    "  plt.subplot(3, 1, 1)\n",
    "  plt.plot(solver.loss_history, 'o', label=update_rule)\n",
    "  \n",
    "  plt.subplot(3, 1, 2)\n",
    "  plt.plot(solver.train_acc_history, '-o', label=update_rule)\n",
    "\n",
    "  plt.subplot(3, 1, 3)\n",
    "  plt.plot(solver.val_acc_history, '-o', label=update_rule)\n",
    "  \n",
    "for i in [1, 2, 3]:\n",
    "  plt.subplot(3, 1, i)\n",
    "  plt.legend(loc='upper center', ncol=4)\n",
    "plt.gcf().set_size_inches(15, 15)\n",
    "plt.show()"
   ]
  },
  {
   "cell_type": "markdown",
   "metadata": {},
   "source": [
    "# RMSProp and Adam\n",
    "RMSProp [1] and Adam [2] are update rules that set per-parameter learning rates by using a running average of the second moments of gradients.\n",
    "\n",
    "In the file `cs231n/optim.py`, implement the RMSProp update rule in the `rmsprop` function and implement the Adam update rule in the `adam` function, and check your implementations using the tests below.\n",
    "\n",
    "**NOTE:** Please implement the _complete_ Adam update rule (with the bias correction mechanism), not the first simplified version mentioned in the course notes. \n",
    "\n",
    "[1] Tijmen Tieleman and Geoffrey Hinton. \"Lecture 6.5-rmsprop: Divide the gradient by a running average of its recent magnitude.\" COURSERA: Neural Networks for Machine Learning 4 (2012).\n",
    "\n",
    "[2] Diederik Kingma and Jimmy Ba, \"Adam: A Method for Stochastic Optimization\", ICLR 2015."
   ]
  },
  {
   "cell_type": "code",
   "execution_count": null,
   "metadata": {
    "collapsed": true
   },
   "outputs": [],
   "source": [
    "# Test RMSProp implementation\n",
    "from cs231n.optim import rmsprop\n",
    "\n",
    "N, D = 4, 5\n",
    "w = np.linspace(-0.4, 0.6, num=N*D).reshape(N, D)\n",
    "dw = np.linspace(-0.6, 0.4, num=N*D).reshape(N, D)\n",
    "cache = np.linspace(0.6, 0.9, num=N*D).reshape(N, D)\n",
    "\n",
    "config = {'learning_rate': 1e-2, 'cache': cache}\n",
    "next_w, _ = rmsprop(w, dw, config=config)\n",
    "\n",
    "expected_next_w = np.asarray([\n",
    "  [-0.39223849, -0.34037513, -0.28849239, -0.23659121, -0.18467247],\n",
    "  [-0.132737,   -0.08078555, -0.02881884,  0.02316247,  0.07515774],\n",
    "  [ 0.12716641,  0.17918792,  0.23122175,  0.28326742,  0.33532447],\n",
    "  [ 0.38739248,  0.43947102,  0.49155973,  0.54365823,  0.59576619]])\n",
    "expected_cache = np.asarray([\n",
    "  [ 0.5976,      0.6126277,   0.6277108,   0.64284931,  0.65804321],\n",
    "  [ 0.67329252,  0.68859723,  0.70395734,  0.71937285,  0.73484377],\n",
    "  [ 0.75037008,  0.7659518,   0.78158892,  0.79728144,  0.81302936],\n",
    "  [ 0.82883269,  0.84469141,  0.86060554,  0.87657507,  0.8926    ]])\n",
    "\n",
    "# You should see relative errors around e-7 or less\n",
    "print('next_w error: ', rel_error(expected_next_w, next_w))\n",
    "print('cache error: ', rel_error(expected_cache, config['cache']))"
   ]
  },
  {
   "cell_type": "code",
   "execution_count": null,
   "metadata": {
    "collapsed": true
   },
   "outputs": [],
   "source": [
    "# Test Adam implementation\n",
    "from cs231n.optim import adam\n",
    "\n",
    "N, D = 4, 5\n",
    "w = np.linspace(-0.4, 0.6, num=N*D).reshape(N, D)\n",
    "dw = np.linspace(-0.6, 0.4, num=N*D).reshape(N, D)\n",
    "m = np.linspace(0.6, 0.9, num=N*D).reshape(N, D)\n",
    "v = np.linspace(0.7, 0.5, num=N*D).reshape(N, D)\n",
    "\n",
    "config = {'learning_rate': 1e-2, 'm': m, 'v': v, 't': 5}\n",
    "next_w, _ = adam(w, dw, config=config)\n",
    "\n",
    "expected_next_w = np.asarray([\n",
    "  [-0.40094747, -0.34836187, -0.29577703, -0.24319299, -0.19060977],\n",
    "  [-0.1380274,  -0.08544591, -0.03286534,  0.01971428,  0.0722929],\n",
    "  [ 0.1248705,   0.17744702,  0.23002243,  0.28259667,  0.33516969],\n",
    "  [ 0.38774145,  0.44031188,  0.49288093,  0.54544852,  0.59801459]])\n",
    "expected_v = np.asarray([\n",
    "  [ 0.69966,     0.68908382,  0.67851319,  0.66794809,  0.65738853,],\n",
    "  [ 0.64683452,  0.63628604,  0.6257431,   0.61520571,  0.60467385,],\n",
    "  [ 0.59414753,  0.58362676,  0.57311152,  0.56260183,  0.55209767,],\n",
    "  [ 0.54159906,  0.53110598,  0.52061845,  0.51013645,  0.49966,   ]])\n",
    "expected_m = np.asarray([\n",
    "  [ 0.48,        0.49947368,  0.51894737,  0.53842105,  0.55789474],\n",
    "  [ 0.57736842,  0.59684211,  0.61631579,  0.63578947,  0.65526316],\n",
    "  [ 0.67473684,  0.69421053,  0.71368421,  0.73315789,  0.75263158],\n",
    "  [ 0.77210526,  0.79157895,  0.81105263,  0.83052632,  0.85      ]])\n",
    "\n",
    "# You should see relative errors around e-7 or less\n",
    "print('next_w error: ', rel_error(expected_next_w, next_w))\n",
    "print('v error: ', rel_error(expected_v, config['v']))\n",
    "print('m error: ', rel_error(expected_m, config['m']))"
   ]
  },
  {
   "cell_type": "markdown",
   "metadata": {},
   "source": [
    "Once you have debugged your RMSProp and Adam implementations, run the following to train a pair of deep networks using these new update rules:"
   ]
  },
  {
   "cell_type": "code",
   "execution_count": null,
   "metadata": {
    "collapsed": true
   },
   "outputs": [],
   "source": [
    "learning_rates = {'rmsprop': 1e-4, 'adam': 1e-3}\n",
    "for update_rule in ['adam', 'rmsprop']:\n",
    "  print('running with ', update_rule)\n",
    "  model = FullyConnectedNet([100, 100, 100, 100, 100], weight_scale=5e-2)\n",
    "\n",
    "  solver = Solver(model, small_data,\n",
    "                  num_epochs=5, batch_size=100,\n",
    "                  update_rule=update_rule,\n",
    "                  optim_config={\n",
    "                    'learning_rate': learning_rates[update_rule]\n",
    "                  },\n",
    "                  verbose=True)\n",
    "  solvers[update_rule] = solver\n",
    "  solver.train()\n",
    "  print()\n",
    "\n",
    "plt.subplot(3, 1, 1)\n",
    "plt.title('Training loss')\n",
    "plt.xlabel('Iteration')\n",
    "\n",
    "plt.subplot(3, 1, 2)\n",
    "plt.title('Training accuracy')\n",
    "plt.xlabel('Epoch')\n",
    "\n",
    "plt.subplot(3, 1, 3)\n",
    "plt.title('Validation accuracy')\n",
    "plt.xlabel('Epoch')\n",
    "\n",
    "for update_rule, solver in list(solvers.items()):\n",
    "  plt.subplot(3, 1, 1)\n",
    "  plt.plot(solver.loss_history, 'o', label=update_rule)\n",
    "  \n",
    "  plt.subplot(3, 1, 2)\n",
    "  plt.plot(solver.train_acc_history, '-o', label=update_rule)\n",
    "\n",
    "  plt.subplot(3, 1, 3)\n",
    "  plt.plot(solver.val_acc_history, '-o', label=update_rule)\n",
    "  \n",
    "for i in [1, 2, 3]:\n",
    "  plt.subplot(3, 1, i)\n",
    "  plt.legend(loc='upper center', ncol=4)\n",
    "plt.gcf().set_size_inches(15, 15)\n",
    "plt.show()"
   ]
  },
  {
   "cell_type": "markdown",
   "metadata": {},
   "source": [
    "## Inline Question 3:\n",
    "\n",
    "AdaGrad, like Adam, is a per-parameter optimization method that uses the following update rule:\n",
    "\n",
    "```\n",
    "cache += dw**2\n",
    "w += - learning_rate * dw / (np.sqrt(cache) + eps)\n",
    "```\n",
    "\n",
    "John notices that when he was training a network with AdaGrad that the updates became very small, and that his network was learning slowly. Using your knowledge of the AdaGrad update rule, why do you think the updates would become very small? Would Adam have the same issue?\n"
   ]
  },
  {
   "cell_type": "markdown",
   "metadata": {},
   "source": [
    "## Answer: \n"
   ]
  },
  {
   "cell_type": "markdown",
   "metadata": {},
   "source": [
    "# Train a good model!\n",
    "Train the best fully-connected model that you can on CIFAR-10, storing your best model in the `best_model` variable. We require you to get at least 50% accuracy on the validation set using a fully-connected net.\n",
    "\n",
    "If you are careful it should be possible to get accuracies above 55%, but we don't require it for this part and won't assign extra credit for doing so. Later in the assignment we will ask you to train the best convolutional network that you can on CIFAR-10, and we would prefer that you spend your effort working on convolutional nets rather than fully-connected nets.\n",
    "\n",
    "You might find it useful to complete the `BatchNormalization.ipynb` and `Dropout.ipynb` notebooks before completing this part, since those techniques can help you train powerful models."
   ]
  },
  {
   "cell_type": "code",
   "execution_count": null,
   "metadata": {
    "collapsed": true,
    "scrolled": false
   },
   "outputs": [],
   "source": [
    "best_model = None\n",
    "################################################################################\n",
    "# TODO: Train the best FullyConnectedNet that you can on CIFAR-10. You might   #\n",
    "# find batch/layer normalization and dropout useful. Store your best model in  #\n",
    "# the best_model variable.                                                     #\n",
    "################################################################################\n",
    "pass\n",
    "################################################################################\n",
    "#                              END OF YOUR CODE                                #\n",
    "################################################################################"
   ]
  },
  {
   "cell_type": "markdown",
   "metadata": {},
   "source": [
    "# Test your model!\n",
    "Run your best model on the validation and test sets. You should achieve above 50% accuracy on the validation set."
   ]
  },
  {
   "cell_type": "code",
   "execution_count": null,
   "metadata": {
    "collapsed": true
   },
   "outputs": [],
   "source": [
    "y_test_pred = np.argmax(best_model.loss(data['X_test']), axis=1)\n",
    "y_val_pred = np.argmax(best_model.loss(data['X_val']), axis=1)\n",
    "print('Validation set accuracy: ', (y_val_pred == data['y_val']).mean())\n",
    "print('Test set accuracy: ', (y_test_pred == data['y_test']).mean())"
   ]
  }
 ],
 "metadata": {
  "kernelspec": {
   "display_name": "Python 3",
   "language": "python",
   "name": "python3"
  },
  "language_info": {
   "codemirror_mode": {
    "name": "ipython",
    "version": 3
   },
   "file_extension": ".py",
   "mimetype": "text/x-python",
   "name": "python",
   "nbconvert_exporter": "python",
   "pygments_lexer": "ipython3",
   "version": "3.7.1"
  },
  "varInspector": {
   "cols": {
    "lenName": 16,
    "lenType": 16,
    "lenVar": 40
   },
   "kernels_config": {
    "python": {
     "delete_cmd_postfix": "",
     "delete_cmd_prefix": "del ",
     "library": "var_list.py",
     "varRefreshCmd": "print(var_dic_list())"
    },
    "r": {
     "delete_cmd_postfix": ") ",
     "delete_cmd_prefix": "rm(",
     "library": "var_list.r",
     "varRefreshCmd": "cat(var_dic_list()) "
    }
   },
   "types_to_exclude": [
    "module",
    "function",
    "builtin_function_or_method",
    "instance",
    "_Feature"
   ],
   "window_display": false
  }
 },
 "nbformat": 4,
 "nbformat_minor": 2
}
